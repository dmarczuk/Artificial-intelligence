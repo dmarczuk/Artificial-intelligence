{
 "cells": [
  {
   "cell_type": "code",
   "execution_count": 17,
   "metadata": {},
   "outputs": [
    {
     "name": "stdout",
     "output_type": "stream",
     "text": [
      "Working\n",
      "Unnamed: 0\n",
      "antiguedad_original\n",
      "area\n",
      "areabalcon\n",
      "areaconstruida\n",
      "areaterraza\n",
      "balcon\n",
      "banos\n",
      "banoservicio\n",
      "conjuntocerrado\n",
      "cuarto_de_escoltas\n",
      "cuartodeservicio\n",
      "depositoocuartoutil\n",
      "depositos\n",
      "estrato\n",
      "estudioobiblioteca\n",
      "garajecubierto\n",
      "garajes\n",
      "gimnasio\n",
      "habitaciones\n",
      "halldealcobasoestar\n",
      "instalaciondegas\n",
      "jacuzzi\n",
      "jardin\n",
      "latitud\n",
      "longitud\n",
      "numeroascensores\n",
      "parqueaderovisitantes\n",
      "piscina\n",
      "plantaelectrica\n",
      "porteriaovigilancia\n",
      "remodelado\n",
      "saloncomunal\n",
      "sauna_yo_turco\n",
      "terraza\n",
      "tiempodeconstruido\n",
      "tipodegaraje\n",
      "valor\n",
      "valorventa\n",
      "vigilancia\n",
      "vista\n",
      "zona_de_bbq\n",
      "zonadelavanderia\n",
      "zonaninos\n",
      "zonasverdes\n"
     ]
    }
   ],
   "source": [
    "#Projekt\n",
    "import numpy as np\n",
    "import pandas as pd\n",
    "from sklearn import linear_model\n",
    "from sklearn.linear_model import LinearRegression\n",
    "\n",
    "print('Working')\n",
    "\n",
    "df = pd.read_csv(\"Sales_prediction_Colombia.csv\")\n",
    "#data_top = df.head()\n",
    "#data_top \n",
    "\n",
    "for col in df.columns: \n",
    "    print(col) "
   ]
  },
  {
   "cell_type": "code",
   "execution_count": 18,
   "metadata": {},
   "outputs": [
    {
     "name": "stdout",
     "output_type": "stream",
     "text": [
      "Unnamed: 0\n",
      "area\n",
      "areabalcon\n",
      "areaterraza\n",
      "banos\n",
      "estrato\n",
      "garajes\n",
      "habitaciones\n",
      "halldealcobasoestar\n",
      "jardin\n",
      "tiempodeconstruido\n",
      "valorventa\n"
     ]
    },
    {
     "data": {
      "text/plain": [
       "True"
      ]
     },
     "execution_count": 18,
     "metadata": {},
     "output_type": "execute_result"
    }
   ],
   "source": [
    "df = df.drop(columns=[\"areaconstruida\", \"antiguedad_original\", \"balcon\", \"banoservicio\", \"conjuntocerrado\", \n",
    "                      \"cuarto_de_escoltas\", \"cuartodeservicio\", \"depositoocuartoutil\",\n",
    "                      \"depositos\", \"estudioobiblioteca\", \"garajecubierto\", \"gimnasio\",\n",
    "                      \"instalaciondegas\", \"jacuzzi\", \"latitud\", \"longitud\", \"numeroascensores\", \n",
    "                      \"parqueaderovisitantes\", \"porteriaovigilancia\", \"piscina\", \"plantaelectrica\", \"remodelado\",\n",
    "                      \"saloncomunal\", \"sauna_yo_turco\", \"terraza\", \"tipodegaraje\", \"valor\",\n",
    "                      \"vigilancia\", \"vista\", \"zona_de_bbq\", \"zonadelavanderia\", \"zonaninos\",\n",
    "                      \"zonasverdes\"])\n",
    "\n",
    "for col in df.columns: \n",
    "    print(col) \n",
    "df.isnull().values.any()"
   ]
  },
  {
   "cell_type": "code",
   "execution_count": 19,
   "metadata": {},
   "outputs": [
    {
     "name": "stdout",
     "output_type": "stream",
     "text": [
      "        Unnamed: 0   area  areabalcon  areaterraza  banos  estrato  garajes  \\\n",
      "0                0  145.0       10.00        10.00    3.0      6.0      2.0   \n",
      "1                1  114.0        0.00         0.00    3.0      4.0      0.0   \n",
      "2                2  170.0       30.00        30.00    4.0      6.0      3.0   \n",
      "3                3   61.0        0.00         0.00    1.0      6.0      1.0   \n",
      "4                4  120.5        0.00         0.00    3.0      0.0      2.0   \n",
      "...            ...    ...         ...          ...    ...      ...      ...   \n",
      "145547      145547  118.0        0.00         0.00    3.0      5.0      1.0   \n",
      "145548      145548   89.0       10.00        10.00    3.0      3.0      1.0   \n",
      "145549      145549   88.0        0.00         0.00    3.0      6.0      2.0   \n",
      "145550      145550  173.0       25.68        25.68    3.0      6.0      3.0   \n",
      "145551      145551  106.0        0.00         0.00    2.0      3.0      1.0   \n",
      "\n",
      "        habitaciones  halldealcobasoestar  jardin  tiempodeconstruido  \\\n",
      "0                3.0                    0       0                   1   \n",
      "1                3.0                    0       0                   0   \n",
      "2                2.0                    1       0                   1   \n",
      "3                1.0                    1       0                   0   \n",
      "4                2.0                    0       0                   3   \n",
      "...              ...                  ...     ...                 ...   \n",
      "145547           3.0                    0       0                   0   \n",
      "145548           3.0                    1       0                   0   \n",
      "145549           2.0                    0       0                   0   \n",
      "145550           2.0                    0       0                   2   \n",
      "145551           3.0                    0       0                   3   \n",
      "\n",
      "          valorventa  \n",
      "0       9.000000e+08  \n",
      "1       5.481475e+08  \n",
      "2       1.500000e+09  \n",
      "3       4.950000e+08  \n",
      "4       8.500000e+08  \n",
      "...              ...  \n",
      "145547  8.000000e+08  \n",
      "145548  3.200000e+08  \n",
      "145549  9.500000e+08  \n",
      "145550  1.450000e+09  \n",
      "145551  4.500000e+08  \n",
      "\n",
      "[145552 rows x 12 columns]\n"
     ]
    },
    {
     "data": {
      "text/plain": [
       "False"
      ]
     },
     "execution_count": 19,
     "metadata": {},
     "output_type": "execute_result"
    }
   ],
   "source": [
    "\n",
    "df = df.fillna(0) \n",
    "df = df.replace(to_replace = \"Si\",\n",
    "                 value = 1)\n",
    "df = df.replace(to_replace = \"Entre 0 y 5 años\",\n",
    "                 value = 0)\n",
    "df = df.replace(to_replace = \"Entre 5 y 10 años\",\n",
    "                 value = 1)\n",
    "df = df.replace(to_replace = \"Entre 10 y 20 años\",\n",
    "                 value = 2)\n",
    "df = df.replace(to_replace = \"Más de 20 años\",\n",
    "                 value = 3)\n",
    "print(df)\n",
    "df.isnull().values.any()"
   ]
  },
  {
   "cell_type": "code",
   "execution_count": 20,
   "metadata": {},
   "outputs": [],
   "source": [
    "\n",
    "\n",
    "df1 = df.loc[df['Unnamed: 0'] % 2 == 1]\n",
    "df2 = df.loc[df['Unnamed: 0'] % 2 == 0]\n",
    "df3 = df.loc[df['Unnamed: 0'] < 100]\n",
    "#print(df1)\n",
    "#print(df2)"
   ]
  },
  {
   "cell_type": "code",
   "execution_count": 51,
   "metadata": {},
   "outputs": [],
   "source": []
  },
  {
   "cell_type": "code",
   "execution_count": 21,
   "metadata": {},
   "outputs": [
    {
     "name": "stdout",
     "output_type": "stream",
     "text": [
      "0     145.0\n",
      "1     114.0\n",
      "2     170.0\n",
      "3      61.0\n",
      "4     120.5\n",
      "      ...  \n",
      "95    132.0\n",
      "96     74.0\n",
      "97    230.0\n",
      "98     55.0\n",
      "99     60.0\n",
      "Name: area, Length: 100, dtype: float64\n",
      "0     9.000000e+08\n",
      "1     5.481475e+08\n",
      "2     1.500000e+09\n",
      "3     4.950000e+08\n",
      "4     8.500000e+08\n",
      "          ...     \n",
      "95    7.800000e+08\n",
      "96    2.900000e+08\n",
      "97    1.600000e+09\n",
      "98    1.490000e+08\n",
      "99    1.500000e+08\n",
      "Name: valorventa, Length: 100, dtype: float64\n"
     ]
    },
    {
     "data": {
      "text/plain": [
       "[]"
      ]
     },
     "execution_count": 21,
     "metadata": {},
     "output_type": "execute_result"
    },
    {
     "data": {
      "image/png": "[encoded data removed]",
      "text/plain": [
       "<Figure size 432x288 with 1 Axes>"
      ]
     },
     "metadata": {
      "needs_background": "light"
     },
     "output_type": "display_data"
    }
   ],
   "source": [
    "import matplotlib.pyplot as plt\n",
    "#regresja\n",
    "#df_X = df.data\n",
    "#df_Y = df.target\n",
    "#df1.plot(figsize=(18,5))\n",
    "#X = df2['area', 'areabalcon', 'areaterraza',  'banos',  'estrato',  'garajes', 'habitaciones',  'halldealcobasoestar',  'jardin',  'tiempodeconstruido']\n",
    "X = df3['area']\n",
    "Y = df3['valorventa']\n",
    "print(X)\n",
    "print(Y)\n",
    "plt.scatter(X, Y)\n",
    "plt.xlabel('area')\n",
    "plt.ylabel('price')\n",
    "plt.plot()"
   ]
  },
  {
   "cell_type": "code",
   "execution_count": 22,
   "metadata": {},
   "outputs": [
    {
     "data": {
      "image/png": "[encoded data removed]",
      "text/plain": [
       "<Figure size 864x648 with 2 Axes>"
      ]
     },
     "metadata": {
      "needs_background": "light"
     },
     "output_type": "display_data"
    }
   ],
   "source": [
    "import seaborn as sns\n",
    "\n",
    "#Correlation Heatmap\n",
    "corrmat = df3.corr()\n",
    "f, ax = plt.subplots(figsize=(12, 9))\n",
    "sns.heatmap(corrmat, vmax=.8, square=True);"
   ]
  },
  {
   "cell_type": "code",
   "execution_count": 28,
   "metadata": {},
   "outputs": [
    {
     "data": {
      "text/html": [
       "<div>\n",
       "<style scoped>\n",
       "    .dataframe tbody tr th:only-of-type {\n",
       "        vertical-align: middle;\n",
       "    }\n",
       "\n",
       "    .dataframe tbody tr th {\n",
       "        vertical-align: top;\n",
       "    }\n",
       "\n",
       "    .dataframe thead th {\n",
       "        text-align: right;\n",
       "    }\n",
       "</style>\n",
       "<table border=\"1\" class=\"dataframe\">\n",
       "  <thead>\n",
       "    <tr style=\"text-align: right;\">\n",
       "      <th></th>\n",
       "      <th>Most Correlated Features</th>\n",
       "    </tr>\n",
       "  </thead>\n",
       "  <tbody>\n",
       "    <tr>\n",
       "      <th>0</th>\n",
       "      <td>valorventa</td>\n",
       "    </tr>\n",
       "    <tr>\n",
       "      <th>1</th>\n",
       "      <td>area</td>\n",
       "    </tr>\n",
       "    <tr>\n",
       "      <th>2</th>\n",
       "      <td>garajes</td>\n",
       "    </tr>\n",
       "    <tr>\n",
       "      <th>3</th>\n",
       "      <td>banos</td>\n",
       "    </tr>\n",
       "    <tr>\n",
       "      <th>4</th>\n",
       "      <td>estrato</td>\n",
       "    </tr>\n",
       "    <tr>\n",
       "      <th>5</th>\n",
       "      <td>habitaciones</td>\n",
       "    </tr>\n",
       "    <tr>\n",
       "      <th>6</th>\n",
       "      <td>halldealcobasoestar</td>\n",
       "    </tr>\n",
       "    <tr>\n",
       "      <th>7</th>\n",
       "      <td>areabalcon</td>\n",
       "    </tr>\n",
       "    <tr>\n",
       "      <th>8</th>\n",
       "      <td>areaterraza</td>\n",
       "    </tr>\n",
       "    <tr>\n",
       "      <th>9</th>\n",
       "      <td>tiempodeconstruido</td>\n",
       "    </tr>\n",
       "  </tbody>\n",
       "</table>\n",
       "</div>"
      ],
      "text/plain": [
       "  Most Correlated Features\n",
       "0               valorventa\n",
       "1                     area\n",
       "2                  garajes\n",
       "3                    banos\n",
       "4                  estrato\n",
       "5             habitaciones\n",
       "6      halldealcobasoestar\n",
       "7               areabalcon\n",
       "8              areaterraza\n",
       "9       tiempodeconstruido"
      ]
     },
     "execution_count": 28,
     "metadata": {},
     "output_type": "execute_result"
    }
   ],
   "source": [
    "k = 10\n",
    "cols = corrmat.nlargest(k, 'valorventa')['valorventa'].index\n",
    "most_corr = pd.DataFrame(cols)\n",
    "most_corr.columns = ['Most Correlated Features']\n",
    "most_corr"
   ]
  },
  {
   "cell_type": "code",
   "execution_count": 29,
   "metadata": {},
   "outputs": [
    {
     "name": "stdout",
     "output_type": "stream",
     "text": [
      "0     6.0\n",
      "1     4.0\n",
      "2     6.0\n",
      "3     6.0\n",
      "4     0.0\n",
      "     ... \n",
      "95    6.0\n",
      "96    3.0\n",
      "97    6.0\n",
      "98    3.0\n",
      "99    3.0\n",
      "Name: estrato, Length: 100, dtype: float64\n",
      "0     9.000000e+08\n",
      "1     5.481475e+08\n",
      "2     1.500000e+09\n",
      "3     4.950000e+08\n",
      "4     8.500000e+08\n",
      "          ...     \n",
      "95    7.800000e+08\n",
      "96    2.900000e+08\n",
      "97    1.600000e+09\n",
      "98    1.490000e+08\n",
      "99    1.500000e+08\n",
      "Name: valorventa, Length: 100, dtype: float64\n"
     ]
    },
    {
     "data": {
      "text/plain": [
       "[]"
      ]
     },
     "execution_count": 29,
     "metadata": {},
     "output_type": "execute_result"
    },
    {
     "data": {
      "image/png": "[encoded data removed]",
      "text/plain": [
       "<Figure size 432x288 with 1 Axes>"
      ]
     },
     "metadata": {
      "needs_background": "light"
     },
     "output_type": "display_data"
    }
   ],
   "source": [
    "X = df3['estrato']\n",
    "Y = df3['valorventa']\n",
    "print(X)\n",
    "print(Y)\n",
    "plt.scatter(X, Y)\n",
    "plt.xlabel('estrato')\n",
    "plt.ylabel('price')\n",
    "plt.plot()"
   ]
  },
  {
   "cell_type": "code",
   "execution_count": 30,
   "metadata": {},
   "outputs": [],
   "source": [
    "df3.head()\n",
    "reg = linear_model.LinearRegression()\n",
    "\n",
    "labels = df3['valorventa']\n",
    "train1 = df3.drop(['Unnamed: 0', 'valorventa'], axis = 1)"
   ]
  },
  {
   "cell_type": "code",
   "execution_count": 31,
   "metadata": {},
   "outputs": [
    {
     "data": {
      "text/plain": [
       "LinearRegression(copy_X=True, fit_intercept=True, n_jobs=None, normalize=False)"
      ]
     },
     "execution_count": 31,
     "metadata": {},
     "output_type": "execute_result"
    }
   ],
   "source": [
    "from sklearn.model_selection import train_test_split\n",
    "\n",
    "x_train, x_test, y_train, y_test = train_test_split(train1, labels, test_size = 0.10, random_state = 2)\n",
    "\n",
    "reg.fit(x_train, y_train)"
   ]
  },
  {
   "cell_type": "code",
   "execution_count": 32,
   "metadata": {},
   "outputs": [
    {
     "data": {
      "text/plain": [
       "0.8639680869674567"
      ]
     },
     "execution_count": 32,
     "metadata": {},
     "output_type": "execute_result"
    }
   ],
   "source": [
    "reg.score(x_train, y_train)"
   ]
  },
  {
   "cell_type": "code",
   "execution_count": 33,
   "metadata": {},
   "outputs": [
    {
     "data": {
      "text/plain": [
       "0.8277438985792953"
      ]
     },
     "execution_count": 33,
     "metadata": {},
     "output_type": "execute_result"
    }
   ],
   "source": [
    "reg.score(x_test, y_test)"
   ]
  },
  {
   "cell_type": "code",
   "execution_count": 41,
   "metadata": {},
   "outputs": [],
   "source": [
    "from sklearn import metrics\n",
    "#from sklearn.model_selection import GridSearchCVprint(\"R^2 dla stopnia \", \": {}\".format(metrics.r2_score(y_test, reg.predict(x_test)))"
   ]
  },
  {
   "cell_type": "code",
   "execution_count": 42,
   "metadata": {},
   "outputs": [
    {
     "name": "stderr",
     "output_type": "stream",
     "text": [
      "c:\\python\\python37\\lib\\site-packages\\sklearn\\model_selection\\_split.py:296: FutureWarning: Setting a random_state has no effect since shuffle is False. This will raise an error in 0.24. You should leave random_state to its default (None), or set shuffle=True.\n",
      "  FutureWarning\n",
      "c:\\python\\python37\\lib\\site-packages\\sklearn\\linear_model\\_coordinate_descent.py:476: ConvergenceWarning: Objective did not converge. You might want to increase the number of iterations. Duality gap: 2.183046647027712e+18, tolerance: 3208409791520931.0\n",
      "  positive)\n",
      "c:\\python\\python37\\lib\\site-packages\\sklearn\\linear_model\\_coordinate_descent.py:476: ConvergenceWarning: Objective did not converge. You might want to increase the number of iterations. Duality gap: 1.7981653454964813e+18, tolerance: 2577583827775797.0\n",
      "  positive)\n",
      "c:\\python\\python37\\lib\\site-packages\\sklearn\\linear_model\\_coordinate_descent.py:476: ConvergenceWarning: Objective did not converge. You might want to increase the number of iterations. Duality gap: 1.586945430272669e+18, tolerance: 2562629864685447.0\n",
      "  positive)\n",
      "c:\\python\\python37\\lib\\site-packages\\sklearn\\linear_model\\_coordinate_descent.py:476: ConvergenceWarning: Objective did not converge. You might want to increase the number of iterations. Duality gap: 1.911537856308311e+18, tolerance: 2657614160797556.5\n",
      "  positive)\n",
      "c:\\python\\python37\\lib\\site-packages\\sklearn\\linear_model\\_coordinate_descent.py:476: ConvergenceWarning: Objective did not converge. You might want to increase the number of iterations. Duality gap: 1.694475714061823e+18, tolerance: 2680762215264928.5\n",
      "  positive)\n",
      "c:\\python\\python37\\lib\\site-packages\\sklearn\\linear_model\\_coordinate_descent.py:476: ConvergenceWarning: Objective did not converge. You might want to increase the number of iterations. Duality gap: 7.306121534671203e+17, tolerance: 3208409791520931.0\n",
      "  positive)\n",
      "c:\\python\\python37\\lib\\site-packages\\sklearn\\linear_model\\_coordinate_descent.py:476: ConvergenceWarning: Objective did not converge. You might want to increase the number of iterations. Duality gap: 4.405436264779614e+17, tolerance: 2577583827775797.0\n",
      "  positive)\n",
      "c:\\python\\python37\\lib\\site-packages\\sklearn\\linear_model\\_coordinate_descent.py:476: ConvergenceWarning: Objective did not converge. You might want to increase the number of iterations. Duality gap: 6.355805611170244e+17, tolerance: 2562629864685447.0\n",
      "  positive)\n",
      "c:\\python\\python37\\lib\\site-packages\\sklearn\\linear_model\\_coordinate_descent.py:476: ConvergenceWarning: Objective did not converge. You might want to increase the number of iterations. Duality gap: 4.3189518467104064e+17, tolerance: 2657614160797556.5\n",
      "  positive)\n",
      "c:\\python\\python37\\lib\\site-packages\\sklearn\\linear_model\\_coordinate_descent.py:476: ConvergenceWarning: Objective did not converge. You might want to increase the number of iterations. Duality gap: 4.6349327603075475e+17, tolerance: 2680762215264928.5\n",
      "  positive)\n",
      "c:\\python\\python37\\lib\\site-packages\\sklearn\\linear_model\\_coordinate_descent.py:476: ConvergenceWarning: Objective did not converge. You might want to increase the number of iterations. Duality gap: 1.725928017734093e+17, tolerance: 3208409791520931.0\n",
      "  positive)\n",
      "c:\\python\\python37\\lib\\site-packages\\sklearn\\linear_model\\_coordinate_descent.py:476: ConvergenceWarning: Objective did not converge. You might want to increase the number of iterations. Duality gap: 1.6217851959401114e+17, tolerance: 2577583827775797.0\n",
      "  positive)\n",
      "c:\\python\\python37\\lib\\site-packages\\sklearn\\linear_model\\_coordinate_descent.py:476: ConvergenceWarning: Objective did not converge. You might want to increase the number of iterations. Duality gap: 2.900834055675958e+17, tolerance: 2562629864685447.0\n",
      "  positive)\n",
      "c:\\python\\python37\\lib\\site-packages\\sklearn\\linear_model\\_coordinate_descent.py:476: ConvergenceWarning: Objective did not converge. You might want to increase the number of iterations. Duality gap: 1.3215548327222755e+17, tolerance: 2657614160797556.5\n",
      "  positive)\n",
      "c:\\python\\python37\\lib\\site-packages\\sklearn\\linear_model\\_coordinate_descent.py:476: ConvergenceWarning: Objective did not converge. You might want to increase the number of iterations. Duality gap: 1.243252278016536e+17, tolerance: 2680762215264928.5\n",
      "  positive)\n",
      "c:\\python\\python37\\lib\\site-packages\\sklearn\\linear_model\\_coordinate_descent.py:476: ConvergenceWarning: Objective did not converge. You might want to increase the number of iterations. Duality gap: 7.94336930529345e+16, tolerance: 3208409791520931.0\n",
      "  positive)\n",
      "c:\\python\\python37\\lib\\site-packages\\sklearn\\linear_model\\_coordinate_descent.py:476: ConvergenceWarning: Objective did not converge. You might want to increase the number of iterations. Duality gap: 9.279912429535206e+16, tolerance: 2577583827775797.0\n",
      "  positive)\n",
      "c:\\python\\python37\\lib\\site-packages\\sklearn\\linear_model\\_coordinate_descent.py:476: ConvergenceWarning: Objective did not converge. You might want to increase the number of iterations. Duality gap: 1.500822554024643e+17, tolerance: 2562629864685447.0\n",
      "  positive)\n",
      "c:\\python\\python37\\lib\\site-packages\\sklearn\\linear_model\\_coordinate_descent.py:476: ConvergenceWarning: Objective did not converge. You might want to increase the number of iterations. Duality gap: 7.649154355174224e+16, tolerance: 2657614160797556.5\n",
      "  positive)\n",
      "c:\\python\\python37\\lib\\site-packages\\sklearn\\linear_model\\_coordinate_descent.py:476: ConvergenceWarning: Objective did not converge. You might want to increase the number of iterations. Duality gap: 4.523145235324062e+16, tolerance: 2680762215264928.5\n",
      "  positive)\n",
      "c:\\python\\python37\\lib\\site-packages\\sklearn\\linear_model\\_coordinate_descent.py:476: ConvergenceWarning: Objective did not converge. You might want to increase the number of iterations. Duality gap: 2.2449132435314552e+18, tolerance: 3208409791520931.0\n",
      "  positive)\n",
      "c:\\python\\python37\\lib\\site-packages\\sklearn\\linear_model\\_coordinate_descent.py:476: ConvergenceWarning: Objective did not converge. You might want to increase the number of iterations. Duality gap: 1.86389039321819e+18, tolerance: 2577583827775797.0\n",
      "  positive)\n",
      "c:\\python\\python37\\lib\\site-packages\\sklearn\\linear_model\\_coordinate_descent.py:476: ConvergenceWarning: Objective did not converge. You might want to increase the number of iterations. Duality gap: 1.62289123022164e+18, tolerance: 2562629864685447.0\n",
      "  positive)\n",
      "c:\\python\\python37\\lib\\site-packages\\sklearn\\linear_model\\_coordinate_descent.py:476: ConvergenceWarning: Objective did not converge. You might want to increase the number of iterations. Duality gap: 1.9600318108589466e+18, tolerance: 2657614160797556.5\n",
      "  positive)\n",
      "c:\\python\\python37\\lib\\site-packages\\sklearn\\linear_model\\_coordinate_descent.py:476: ConvergenceWarning: Objective did not converge. You might want to increase the number of iterations. Duality gap: 1.737991275700522e+18, tolerance: 2680762215264928.5\n",
      "  positive)\n",
      "c:\\python\\python37\\lib\\site-packages\\sklearn\\linear_model\\_coordinate_descent.py:476: ConvergenceWarning: Objective did not converge. You might want to increase the number of iterations. Duality gap: 8.47640345442334e+17, tolerance: 3208409791520931.0\n",
      "  positive)\n",
      "c:\\python\\python37\\lib\\site-packages\\sklearn\\linear_model\\_coordinate_descent.py:476: ConvergenceWarning: Objective did not converge. You might want to increase the number of iterations. Duality gap: 5.607932992427028e+17, tolerance: 2577583827775797.0\n",
      "  positive)\n",
      "c:\\python\\python37\\lib\\site-packages\\sklearn\\linear_model\\_coordinate_descent.py:476: ConvergenceWarning: Objective did not converge. You might want to increase the number of iterations. Duality gap: 7.374389367935288e+17, tolerance: 2562629864685447.0\n",
      "  positive)\n",
      "c:\\python\\python37\\lib\\site-packages\\sklearn\\linear_model\\_coordinate_descent.py:476: ConvergenceWarning: Objective did not converge. You might want to increase the number of iterations. Duality gap: 5.6495697591793984e+17, tolerance: 2657614160797556.5\n",
      "  positive)\n",
      "c:\\python\\python37\\lib\\site-packages\\sklearn\\linear_model\\_coordinate_descent.py:476: ConvergenceWarning: Objective did not converge. You might want to increase the number of iterations. Duality gap: 5.949082737125713e+17, tolerance: 2680762215264928.5\n",
      "  positive)\n",
      "c:\\python\\python37\\lib\\site-packages\\sklearn\\linear_model\\_coordinate_descent.py:476: ConvergenceWarning: Objective did not converge. You might want to increase the number of iterations. Duality gap: 2.133795053956126e+17, tolerance: 3208409791520931.0\n",
      "  positive)\n",
      "c:\\python\\python37\\lib\\site-packages\\sklearn\\linear_model\\_coordinate_descent.py:476: ConvergenceWarning: Objective did not converge. You might want to increase the number of iterations. Duality gap: 1.8537266380477622e+17, tolerance: 2577583827775797.0\n",
      "  positive)\n"
     ]
    },
    {
     "name": "stderr",
     "output_type": "stream",
     "text": [
      "c:\\python\\python37\\lib\\site-packages\\sklearn\\linear_model\\_coordinate_descent.py:476: ConvergenceWarning: Objective did not converge. You might want to increase the number of iterations. Duality gap: 3.320223469656467e+17, tolerance: 2562629864685447.0\n",
      "  positive)\n",
      "c:\\python\\python37\\lib\\site-packages\\sklearn\\linear_model\\_coordinate_descent.py:476: ConvergenceWarning: Objective did not converge. You might want to increase the number of iterations. Duality gap: 1.5928763195110374e+17, tolerance: 2657614160797556.5\n",
      "  positive)\n",
      "c:\\python\\python37\\lib\\site-packages\\sklearn\\linear_model\\_coordinate_descent.py:476: ConvergenceWarning: Objective did not converge. You might want to increase the number of iterations. Duality gap: 1.604534520206948e+17, tolerance: 2680762215264928.5\n",
      "  positive)\n",
      "c:\\python\\python37\\lib\\site-packages\\sklearn\\linear_model\\_coordinate_descent.py:476: ConvergenceWarning: Objective did not converge. You might want to increase the number of iterations. Duality gap: 8.975519360578288e+16, tolerance: 3208409791520931.0\n",
      "  positive)\n",
      "c:\\python\\python37\\lib\\site-packages\\sklearn\\linear_model\\_coordinate_descent.py:476: ConvergenceWarning: Objective did not converge. You might want to increase the number of iterations. Duality gap: 1.0378288529505307e+17, tolerance: 2577583827775797.0\n",
      "  positive)\n",
      "c:\\python\\python37\\lib\\site-packages\\sklearn\\linear_model\\_coordinate_descent.py:476: ConvergenceWarning: Objective did not converge. You might want to increase the number of iterations. Duality gap: 1.5727845861898128e+17, tolerance: 2562629864685447.0\n",
      "  positive)\n",
      "c:\\python\\python37\\lib\\site-packages\\sklearn\\linear_model\\_coordinate_descent.py:476: ConvergenceWarning: Objective did not converge. You might want to increase the number of iterations. Duality gap: 8.49534824616806e+16, tolerance: 2657614160797556.5\n",
      "  positive)\n",
      "c:\\python\\python37\\lib\\site-packages\\sklearn\\linear_model\\_coordinate_descent.py:476: ConvergenceWarning: Objective did not converge. You might want to increase the number of iterations. Duality gap: 5.575706977261263e+16, tolerance: 2680762215264928.5\n",
      "  positive)\n",
      "c:\\python\\python37\\lib\\site-packages\\sklearn\\linear_model\\_coordinate_descent.py:476: ConvergenceWarning: Objective did not converge. You might want to increase the number of iterations. Duality gap: 3.101275110640763e+17, tolerance: 3208409791520931.0\n",
      "  positive)\n",
      "c:\\python\\python37\\lib\\site-packages\\sklearn\\linear_model\\_coordinate_descent.py:476: ConvergenceWarning: Objective did not converge. You might want to increase the number of iterations. Duality gap: 1.9979598617899236e+18, tolerance: 2577583827775797.0\n",
      "  positive)\n",
      "c:\\python\\python37\\lib\\site-packages\\sklearn\\linear_model\\_coordinate_descent.py:476: ConvergenceWarning: Objective did not converge. You might want to increase the number of iterations. Duality gap: 1.7911204937408858e+18, tolerance: 2562629864685447.0\n",
      "  positive)\n",
      "c:\\python\\python37\\lib\\site-packages\\sklearn\\linear_model\\_coordinate_descent.py:476: ConvergenceWarning: Objective did not converge. You might want to increase the number of iterations. Duality gap: 2.2084406826540913e+18, tolerance: 2657614160797556.5\n",
      "  positive)\n",
      "c:\\python\\python37\\lib\\site-packages\\sklearn\\linear_model\\_coordinate_descent.py:476: ConvergenceWarning: Objective did not converge. You might want to increase the number of iterations. Duality gap: 1.9452916498515192e+18, tolerance: 2680762215264928.5\n",
      "  positive)\n",
      "c:\\python\\python37\\lib\\site-packages\\sklearn\\linear_model\\_coordinate_descent.py:476: ConvergenceWarning: Objective did not converge. You might want to increase the number of iterations. Duality gap: 1.0642115568488009e+18, tolerance: 3208409791520931.0\n",
      "  positive)\n",
      "c:\\python\\python37\\lib\\site-packages\\sklearn\\linear_model\\_coordinate_descent.py:476: ConvergenceWarning: Objective did not converge. You might want to increase the number of iterations. Duality gap: 7.318782927706612e+17, tolerance: 2577583827775797.0\n",
      "  positive)\n",
      "c:\\python\\python37\\lib\\site-packages\\sklearn\\linear_model\\_coordinate_descent.py:476: ConvergenceWarning: Objective did not converge. You might want to increase the number of iterations. Duality gap: 9.064139016053247e+17, tolerance: 2562629864685447.0\n",
      "  positive)\n",
      "c:\\python\\python37\\lib\\site-packages\\sklearn\\linear_model\\_coordinate_descent.py:476: ConvergenceWarning: Objective did not converge. You might want to increase the number of iterations. Duality gap: 8.299388370570007e+17, tolerance: 2657614160797556.5\n",
      "  positive)\n",
      "c:\\python\\python37\\lib\\site-packages\\sklearn\\linear_model\\_coordinate_descent.py:476: ConvergenceWarning: Objective did not converge. You might want to increase the number of iterations. Duality gap: 8.180855668140247e+17, tolerance: 2680762215264928.5\n",
      "  positive)\n",
      "c:\\python\\python37\\lib\\site-packages\\sklearn\\linear_model\\_coordinate_descent.py:476: ConvergenceWarning: Objective did not converge. You might want to increase the number of iterations. Duality gap: 2.84005590402501e+17, tolerance: 3208409791520931.0\n",
      "  positive)\n",
      "c:\\python\\python37\\lib\\site-packages\\sklearn\\linear_model\\_coordinate_descent.py:476: ConvergenceWarning: Objective did not converge. You might want to increase the number of iterations. Duality gap: 2.3508456902575958e+17, tolerance: 2577583827775797.0\n",
      "  positive)\n",
      "c:\\python\\python37\\lib\\site-packages\\sklearn\\linear_model\\_coordinate_descent.py:476: ConvergenceWarning: Objective did not converge. You might want to increase the number of iterations. Duality gap: 3.8591715507474106e+17, tolerance: 2562629864685447.0\n",
      "  positive)\n",
      "c:\\python\\python37\\lib\\site-packages\\sklearn\\linear_model\\_coordinate_descent.py:476: ConvergenceWarning: Objective did not converge. You might want to increase the number of iterations. Duality gap: 2.0395859805245226e+17, tolerance: 2657614160797556.5\n",
      "  positive)\n",
      "c:\\python\\python37\\lib\\site-packages\\sklearn\\linear_model\\_coordinate_descent.py:476: ConvergenceWarning: Objective did not converge. You might want to increase the number of iterations. Duality gap: 2.22392983248964e+17, tolerance: 2680762215264928.5\n",
      "  positive)\n",
      "c:\\python\\python37\\lib\\site-packages\\sklearn\\linear_model\\_coordinate_descent.py:476: ConvergenceWarning: Objective did not converge. You might want to increase the number of iterations. Duality gap: 1.032714943672465e+17, tolerance: 3208409791520931.0\n",
      "  positive)\n",
      "c:\\python\\python37\\lib\\site-packages\\sklearn\\linear_model\\_coordinate_descent.py:476: ConvergenceWarning: Objective did not converge. You might want to increase the number of iterations. Duality gap: 1.1853535280478578e+17, tolerance: 2577583827775797.0\n",
      "  positive)\n",
      "c:\\python\\python37\\lib\\site-packages\\sklearn\\linear_model\\_coordinate_descent.py:476: ConvergenceWarning: Objective did not converge. You might want to increase the number of iterations. Duality gap: 1.7597176272032326e+17, tolerance: 2562629864685447.0\n",
      "  positive)\n",
      "c:\\python\\python37\\lib\\site-packages\\sklearn\\linear_model\\_coordinate_descent.py:476: ConvergenceWarning: Objective did not converge. You might want to increase the number of iterations. Duality gap: 9.926298679831242e+16, tolerance: 2657614160797556.5\n",
      "  positive)\n",
      "c:\\python\\python37\\lib\\site-packages\\sklearn\\linear_model\\_coordinate_descent.py:476: ConvergenceWarning: Objective did not converge. You might want to increase the number of iterations. Duality gap: 7.040794179001196e+16, tolerance: 2680762215264928.5\n",
      "  positive)\n",
      "c:\\python\\python37\\lib\\site-packages\\sklearn\\linear_model\\_coordinate_descent.py:476: ConvergenceWarning: Objective did not converge. You might want to increase the number of iterations. Duality gap: 1.3550692466527101e+18, tolerance: 3208409791520931.0\n",
      "  positive)\n",
      "c:\\python\\python37\\lib\\site-packages\\sklearn\\linear_model\\_coordinate_descent.py:476: ConvergenceWarning: Objective did not converge. You might want to increase the number of iterations. Duality gap: 9.938895049030569e+17, tolerance: 2577583827775797.0\n",
      "  positive)\n",
      "c:\\python\\python37\\lib\\site-packages\\sklearn\\linear_model\\_coordinate_descent.py:476: ConvergenceWarning: Objective did not converge. You might want to increase the number of iterations. Duality gap: 1.1265607801835137e+18, tolerance: 2562629864685447.0\n",
      "  positive)\n",
      "c:\\python\\python37\\lib\\site-packages\\sklearn\\linear_model\\_coordinate_descent.py:476: ConvergenceWarning: Objective did not converge. You might want to increase the number of iterations. Duality gap: 1.146458361400806e+18, tolerance: 2657614160797556.5\n",
      "  positive)\n",
      "c:\\python\\python37\\lib\\site-packages\\sklearn\\linear_model\\_coordinate_descent.py:476: ConvergenceWarning: Objective did not converge. You might want to increase the number of iterations. Duality gap: 1.0486838841145508e+18, tolerance: 2680762215264928.5\n",
      "  positive)\n",
      "c:\\python\\python37\\lib\\site-packages\\sklearn\\linear_model\\_coordinate_descent.py:476: ConvergenceWarning: Objective did not converge. You might want to increase the number of iterations. Duality gap: 3.691855920558613e+17, tolerance: 3208409791520931.0\n",
      "  positive)\n",
      "c:\\python\\python37\\lib\\site-packages\\sklearn\\linear_model\\_coordinate_descent.py:476: ConvergenceWarning: Objective did not converge. You might want to increase the number of iterations. Duality gap: 3.073741291141663e+17, tolerance: 2577583827775797.0\n",
      "  positive)\n",
      "c:\\python\\python37\\lib\\site-packages\\sklearn\\linear_model\\_coordinate_descent.py:476: ConvergenceWarning: Objective did not converge. You might want to increase the number of iterations. Duality gap: 4.424737969787918e+17, tolerance: 2562629864685447.0\n",
      "  positive)\n"
     ]
    },
    {
     "name": "stderr",
     "output_type": "stream",
     "text": [
      "c:\\python\\python37\\lib\\site-packages\\sklearn\\linear_model\\_coordinate_descent.py:476: ConvergenceWarning: Objective did not converge. You might want to increase the number of iterations. Duality gap: 2.720479602098093e+17, tolerance: 2657614160797556.5\n",
      "  positive)\n",
      "c:\\python\\python37\\lib\\site-packages\\sklearn\\linear_model\\_coordinate_descent.py:476: ConvergenceWarning: Objective did not converge. You might want to increase the number of iterations. Duality gap: 2.4414155100239862e+17, tolerance: 2680762215264928.5\n",
      "  positive)\n",
      "c:\\python\\python37\\lib\\site-packages\\sklearn\\linear_model\\_coordinate_descent.py:476: ConvergenceWarning: Objective did not converge. You might want to increase the number of iterations. Duality gap: 1.463049426048517e+17, tolerance: 3208409791520931.0\n",
      "  positive)\n",
      "c:\\python\\python37\\lib\\site-packages\\sklearn\\linear_model\\_coordinate_descent.py:476: ConvergenceWarning: Objective did not converge. You might want to increase the number of iterations. Duality gap: 1.482993684722179e+17, tolerance: 2577583827775797.0\n",
      "  positive)\n",
      "c:\\python\\python37\\lib\\site-packages\\sklearn\\linear_model\\_coordinate_descent.py:476: ConvergenceWarning: Objective did not converge. You might want to increase the number of iterations. Duality gap: 2.095248934715246e+17, tolerance: 2562629864685447.0\n",
      "  positive)\n",
      "c:\\python\\python37\\lib\\site-packages\\sklearn\\linear_model\\_coordinate_descent.py:476: ConvergenceWarning: Objective did not converge. You might want to increase the number of iterations. Duality gap: 1.3671668495285254e+17, tolerance: 2657614160797556.5\n",
      "  positive)\n",
      "c:\\python\\python37\\lib\\site-packages\\sklearn\\linear_model\\_coordinate_descent.py:476: ConvergenceWarning: Objective did not converge. You might want to increase the number of iterations. Duality gap: 9.725218447168035e+16, tolerance: 2680762215264928.5\n",
      "  positive)\n",
      "c:\\python\\python37\\lib\\site-packages\\sklearn\\linear_model\\_coordinate_descent.py:476: ConvergenceWarning: Objective did not converge. You might want to increase the number of iterations. Duality gap: 2.686753493192066e+18, tolerance: 3431101032079880.0\n",
      "  positive)\n"
     ]
    },
    {
     "data": {
      "text/plain": [
       "{'elasticnet__alpha': 1, 'polynomialfeatures__degree': 1}"
      ]
     },
     "execution_count": 42,
     "metadata": {},
     "output_type": "execute_result"
    }
   ],
   "source": [
    "from sklearn.model_selection import GridSearchCV\n",
    "from sklearn import linear_model\n",
    "from sklearn.preprocessing import PolynomialFeatures\n",
    "from sklearn.linear_model import Ridge\n",
    "from sklearn.linear_model import Lasso\n",
    "from sklearn.linear_model import ElasticNet\n",
    "from sklearn.pipeline import make_pipeline\n",
    "from sklearn import model_selection\n",
    "\n",
    "seed=123\n",
    "kfold = model_selection.KFold(n_splits=5, random_state=seed)\n",
    "\n",
    "grid_1 = GridSearchCV(make_pipeline(PolynomialFeatures(degree=2), ElasticNet(alpha=1, random_state=seed)),\n",
    "                    param_grid={'polynomialfeatures__degree': [1, 2, 3, 4],\n",
    "                    'elasticnet__alpha': [0.01, 0.1, 1, 10]},\n",
    "                    cv=kfold,\n",
    "                    refit=True)\n",
    "grid_1.fit(x_train, y_train)\n",
    "grid_1.best_params_"
   ]
  },
  {
   "cell_type": "code",
   "execution_count": 43,
   "metadata": {},
   "outputs": [
    {
     "name": "stderr",
     "output_type": "stream",
     "text": [
      "c:\\python\\python37\\lib\\site-packages\\sklearn\\linear_model\\_coordinate_descent.py:476: ConvergenceWarning: Objective did not converge. You might want to increase the number of iterations. Duality gap: 6.762478041603146e+17, tolerance: 3208409791520931.0\n",
      "  positive)\n",
      "c:\\python\\python37\\lib\\site-packages\\sklearn\\linear_model\\_coordinate_descent.py:476: ConvergenceWarning: Objective did not converge. You might want to increase the number of iterations. Duality gap: 3.828940790052193e+17, tolerance: 2577583827775797.0\n",
      "  positive)\n",
      "c:\\python\\python37\\lib\\site-packages\\sklearn\\linear_model\\_coordinate_descent.py:476: ConvergenceWarning: Objective did not converge. You might want to increase the number of iterations. Duality gap: 5.758785664110199e+17, tolerance: 2562629864685447.0\n",
      "  positive)\n",
      "c:\\python\\python37\\lib\\site-packages\\sklearn\\linear_model\\_coordinate_descent.py:476: ConvergenceWarning: Objective did not converge. You might want to increase the number of iterations. Duality gap: 3.931015892596884e+17, tolerance: 2657614160797556.5\n",
      "  positive)\n",
      "c:\\python\\python37\\lib\\site-packages\\sklearn\\linear_model\\_coordinate_descent.py:476: ConvergenceWarning: Objective did not converge. You might want to increase the number of iterations. Duality gap: 4.098462693198504e+17, tolerance: 2680762215264928.5\n",
      "  positive)\n",
      "c:\\python\\python37\\lib\\site-packages\\sklearn\\linear_model\\_coordinate_descent.py:476: ConvergenceWarning: Objective did not converge. You might want to increase the number of iterations. Duality gap: 1.4993138627307638e+17, tolerance: 3208409791520931.0\n",
      "  positive)\n",
      "c:\\python\\python37\\lib\\site-packages\\sklearn\\linear_model\\_coordinate_descent.py:476: ConvergenceWarning: Objective did not converge. You might want to increase the number of iterations. Duality gap: 1.381161242615604e+17, tolerance: 2577583827775797.0\n",
      "  positive)\n",
      "c:\\python\\python37\\lib\\site-packages\\sklearn\\linear_model\\_coordinate_descent.py:476: ConvergenceWarning: Objective did not converge. You might want to increase the number of iterations. Duality gap: 2.4662807189680288e+17, tolerance: 2562629864685447.0\n",
      "  positive)\n",
      "c:\\python\\python37\\lib\\site-packages\\sklearn\\linear_model\\_coordinate_descent.py:476: ConvergenceWarning: Objective did not converge. You might want to increase the number of iterations. Duality gap: 1.1498226164426949e+17, tolerance: 2657614160797556.5\n",
      "  positive)\n",
      "c:\\python\\python37\\lib\\site-packages\\sklearn\\linear_model\\_coordinate_descent.py:476: ConvergenceWarning: Objective did not converge. You might want to increase the number of iterations. Duality gap: 1.1077780993091517e+17, tolerance: 2680762215264928.5\n",
      "  positive)\n",
      "c:\\python\\python37\\lib\\site-packages\\sklearn\\linear_model\\_coordinate_descent.py:476: ConvergenceWarning: Objective did not converge. You might want to increase the number of iterations. Duality gap: 7.262859892229123e+16, tolerance: 3208409791520931.0\n",
      "  positive)\n",
      "c:\\python\\python37\\lib\\site-packages\\sklearn\\linear_model\\_coordinate_descent.py:476: ConvergenceWarning: Objective did not converge. You might want to increase the number of iterations. Duality gap: 8.323612353527837e+16, tolerance: 2577583827775797.0\n",
      "  positive)\n",
      "c:\\python\\python37\\lib\\site-packages\\sklearn\\linear_model\\_coordinate_descent.py:476: ConvergenceWarning: Objective did not converge. You might want to increase the number of iterations. Duality gap: 1.3550073685797066e+17, tolerance: 2562629864685447.0\n",
      "  positive)\n",
      "c:\\python\\python37\\lib\\site-packages\\sklearn\\linear_model\\_coordinate_descent.py:476: ConvergenceWarning: Objective did not converge. You might want to increase the number of iterations. Duality gap: 6.8721258116792136e+16, tolerance: 2657614160797556.5\n",
      "  positive)\n",
      "c:\\python\\python37\\lib\\site-packages\\sklearn\\linear_model\\_coordinate_descent.py:476: ConvergenceWarning: Objective did not converge. You might want to increase the number of iterations. Duality gap: 3.960955084709954e+16, tolerance: 2680762215264928.5\n",
      "  positive)\n",
      "c:\\python\\python37\\lib\\site-packages\\sklearn\\linear_model\\_coordinate_descent.py:476: ConvergenceWarning: Objective did not converge. You might want to increase the number of iterations. Duality gap: 6.762478311375944e+17, tolerance: 3208409791520931.0\n",
      "  positive)\n",
      "c:\\python\\python37\\lib\\site-packages\\sklearn\\linear_model\\_coordinate_descent.py:476: ConvergenceWarning: Objective did not converge. You might want to increase the number of iterations. Duality gap: 3.828941029608477e+17, tolerance: 2577583827775797.0\n",
      "  positive)\n",
      "c:\\python\\python37\\lib\\site-packages\\sklearn\\linear_model\\_coordinate_descent.py:476: ConvergenceWarning: Objective did not converge. You might want to increase the number of iterations. Duality gap: 5.758786000423249e+17, tolerance: 2562629864685447.0\n",
      "  positive)\n",
      "c:\\python\\python37\\lib\\site-packages\\sklearn\\linear_model\\_coordinate_descent.py:476: ConvergenceWarning: Objective did not converge. You might want to increase the number of iterations. Duality gap: 3.931016135774436e+17, tolerance: 2657614160797556.5\n",
      "  positive)\n",
      "c:\\python\\python37\\lib\\site-packages\\sklearn\\linear_model\\_coordinate_descent.py:476: ConvergenceWarning: Objective did not converge. You might want to increase the number of iterations. Duality gap: 4.0984628438622656e+17, tolerance: 2680762215264928.5\n",
      "  positive)\n",
      "c:\\python\\python37\\lib\\site-packages\\sklearn\\linear_model\\_coordinate_descent.py:476: ConvergenceWarning: Objective did not converge. You might want to increase the number of iterations. Duality gap: 1.4993142737168304e+17, tolerance: 3208409791520931.0\n",
      "  positive)\n",
      "c:\\python\\python37\\lib\\site-packages\\sklearn\\linear_model\\_coordinate_descent.py:476: ConvergenceWarning: Objective did not converge. You might want to increase the number of iterations. Duality gap: 1.3811616630842045e+17, tolerance: 2577583827775797.0\n",
      "  positive)\n",
      "c:\\python\\python37\\lib\\site-packages\\sklearn\\linear_model\\_coordinate_descent.py:476: ConvergenceWarning: Objective did not converge. You might want to increase the number of iterations. Duality gap: 2.4662812179088566e+17, tolerance: 2562629864685447.0\n",
      "  positive)\n",
      "c:\\python\\python37\\lib\\site-packages\\sklearn\\linear_model\\_coordinate_descent.py:476: ConvergenceWarning: Objective did not converge. You might want to increase the number of iterations. Duality gap: 1.1498229566612629e+17, tolerance: 2657614160797556.5\n",
      "  positive)\n",
      "c:\\python\\python37\\lib\\site-packages\\sklearn\\linear_model\\_coordinate_descent.py:476: ConvergenceWarning: Objective did not converge. You might want to increase the number of iterations. Duality gap: 1.1077782983997235e+17, tolerance: 2680762215264928.5\n",
      "  positive)\n",
      "c:\\python\\python37\\lib\\site-packages\\sklearn\\linear_model\\_coordinate_descent.py:476: ConvergenceWarning: Objective did not converge. You might want to increase the number of iterations. Duality gap: 7.262863609442891e+16, tolerance: 3208409791520931.0\n",
      "  positive)\n",
      "c:\\python\\python37\\lib\\site-packages\\sklearn\\linear_model\\_coordinate_descent.py:476: ConvergenceWarning: Objective did not converge. You might want to increase the number of iterations. Duality gap: 8.323615808843498e+16, tolerance: 2577583827775797.0\n",
      "  positive)\n",
      "c:\\python\\python37\\lib\\site-packages\\sklearn\\linear_model\\_coordinate_descent.py:476: ConvergenceWarning: Objective did not converge. You might want to increase the number of iterations. Duality gap: 1.3550077877248878e+17, tolerance: 2562629864685447.0\n",
      "  positive)\n",
      "c:\\python\\python37\\lib\\site-packages\\sklearn\\linear_model\\_coordinate_descent.py:476: ConvergenceWarning: Objective did not converge. You might want to increase the number of iterations. Duality gap: 6.8721285348646984e+16, tolerance: 2657614160797556.5\n",
      "  positive)\n",
      "c:\\python\\python37\\lib\\site-packages\\sklearn\\linear_model\\_coordinate_descent.py:476: ConvergenceWarning: Objective did not converge. You might want to increase the number of iterations. Duality gap: 3.96095684623477e+16, tolerance: 2680762215264928.5\n",
      "  positive)\n",
      "c:\\python\\python37\\lib\\site-packages\\sklearn\\linear_model\\_coordinate_descent.py:476: ConvergenceWarning: Objective did not converge. You might want to increase the number of iterations. Duality gap: 6.762481008920604e+17, tolerance: 3208409791520931.0\n",
      "  positive)\n",
      "c:\\python\\python37\\lib\\site-packages\\sklearn\\linear_model\\_coordinate_descent.py:476: ConvergenceWarning: Objective did not converge. You might want to increase the number of iterations. Duality gap: 3.828943425081135e+17, tolerance: 2577583827775797.0\n",
      "  positive)\n",
      "c:\\python\\python37\\lib\\site-packages\\sklearn\\linear_model\\_coordinate_descent.py:476: ConvergenceWarning: Objective did not converge. You might want to increase the number of iterations. Duality gap: 5.7587893634601114e+17, tolerance: 2562629864685447.0\n",
      "  positive)\n",
      "c:\\python\\python37\\lib\\site-packages\\sklearn\\linear_model\\_coordinate_descent.py:476: ConvergenceWarning: Objective did not converge. You might want to increase the number of iterations. Duality gap: 3.931018567405552e+17, tolerance: 2657614160797556.5\n",
      "  positive)\n",
      "c:\\python\\python37\\lib\\site-packages\\sklearn\\linear_model\\_coordinate_descent.py:476: ConvergenceWarning: Objective did not converge. You might want to increase the number of iterations. Duality gap: 4.098464350498893e+17, tolerance: 2680762215264928.5\n",
      "  positive)\n"
     ]
    },
    {
     "name": "stderr",
     "output_type": "stream",
     "text": [
      "c:\\python\\python37\\lib\\site-packages\\sklearn\\linear_model\\_coordinate_descent.py:476: ConvergenceWarning: Objective did not converge. You might want to increase the number of iterations. Duality gap: 1.499318383441303e+17, tolerance: 3208409791520931.0\n",
      "  positive)\n",
      "c:\\python\\python37\\lib\\site-packages\\sklearn\\linear_model\\_coordinate_descent.py:476: ConvergenceWarning: Objective did not converge. You might want to increase the number of iterations. Duality gap: 1.3811658675476274e+17, tolerance: 2577583827775797.0\n",
      "  positive)\n",
      "c:\\python\\python37\\lib\\site-packages\\sklearn\\linear_model\\_coordinate_descent.py:476: ConvergenceWarning: Objective did not converge. You might want to increase the number of iterations. Duality gap: 2.4662862071321066e+17, tolerance: 2562629864685447.0\n",
      "  positive)\n",
      "c:\\python\\python37\\lib\\site-packages\\sklearn\\linear_model\\_coordinate_descent.py:476: ConvergenceWarning: Objective did not converge. You might want to increase the number of iterations. Duality gap: 1.1498263585742102e+17, tolerance: 2657614160797556.5\n",
      "  positive)\n",
      "c:\\python\\python37\\lib\\site-packages\\sklearn\\linear_model\\_coordinate_descent.py:476: ConvergenceWarning: Objective did not converge. You might want to increase the number of iterations. Duality gap: 1.1077802892948808e+17, tolerance: 2680762215264928.5\n",
      "  positive)\n",
      "c:\\python\\python37\\lib\\site-packages\\sklearn\\linear_model\\_coordinate_descent.py:476: ConvergenceWarning: Objective did not converge. You might want to increase the number of iterations. Duality gap: 7.262900777225566e+16, tolerance: 3208409791520931.0\n",
      "  positive)\n",
      "c:\\python\\python37\\lib\\site-packages\\sklearn\\linear_model\\_coordinate_descent.py:476: ConvergenceWarning: Objective did not converge. You might want to increase the number of iterations. Duality gap: 8.323650358249355e+16, tolerance: 2577583827775797.0\n",
      "  positive)\n",
      "c:\\python\\python37\\lib\\site-packages\\sklearn\\linear_model\\_coordinate_descent.py:476: ConvergenceWarning: Objective did not converge. You might want to increase the number of iterations. Duality gap: 1.3550119788193918e+17, tolerance: 2562629864685447.0\n",
      "  positive)\n",
      "c:\\python\\python37\\lib\\site-packages\\sklearn\\linear_model\\_coordinate_descent.py:476: ConvergenceWarning: Objective did not converge. You might want to increase the number of iterations. Duality gap: 6.872155763445823e+16, tolerance: 2657614160797556.5\n",
      "  positive)\n",
      "c:\\python\\python37\\lib\\site-packages\\sklearn\\linear_model\\_coordinate_descent.py:476: ConvergenceWarning: Objective did not converge. You might want to increase the number of iterations. Duality gap: 3.9609744613767064e+16, tolerance: 2680762215264928.5\n",
      "  positive)\n",
      "c:\\python\\python37\\lib\\site-packages\\sklearn\\linear_model\\_coordinate_descent.py:476: ConvergenceWarning: Objective did not converge. You might want to increase the number of iterations. Duality gap: 6.762507972687395e+17, tolerance: 3208409791520931.0\n",
      "  positive)\n",
      "c:\\python\\python37\\lib\\site-packages\\sklearn\\linear_model\\_coordinate_descent.py:476: ConvergenceWarning: Objective did not converge. You might want to increase the number of iterations. Duality gap: 3.828967370783004e+17, tolerance: 2577583827775797.0\n",
      "  positive)\n",
      "c:\\python\\python37\\lib\\site-packages\\sklearn\\linear_model\\_coordinate_descent.py:476: ConvergenceWarning: Objective did not converge. You might want to increase the number of iterations. Duality gap: 5.758822985657845e+17, tolerance: 2562629864685447.0\n",
      "  positive)\n",
      "c:\\python\\python37\\lib\\site-packages\\sklearn\\linear_model\\_coordinate_descent.py:476: ConvergenceWarning: Objective did not converge. You might want to increase the number of iterations. Duality gap: 3.9310428691724666e+17, tolerance: 2657614160797556.5\n",
      "  positive)\n",
      "c:\\python\\python37\\lib\\site-packages\\sklearn\\linear_model\\_coordinate_descent.py:476: ConvergenceWarning: Objective did not converge. You might want to increase the number of iterations. Duality gap: 4.098479416790672e+17, tolerance: 2680762215264928.5\n",
      "  positive)\n",
      "c:\\python\\python37\\lib\\site-packages\\sklearn\\linear_model\\_coordinate_descent.py:476: ConvergenceWarning: Objective did not converge. You might want to increase the number of iterations. Duality gap: 1.4993594663185635e+17, tolerance: 3208409791520931.0\n",
      "  positive)\n",
      "c:\\python\\python37\\lib\\site-packages\\sklearn\\linear_model\\_coordinate_descent.py:476: ConvergenceWarning: Objective did not converge. You might want to increase the number of iterations. Duality gap: 1.3812078903054834e+17, tolerance: 2577583827775797.0\n",
      "  positive)\n",
      "c:\\python\\python37\\lib\\site-packages\\sklearn\\linear_model\\_coordinate_descent.py:476: ConvergenceWarning: Objective did not converge. You might want to increase the number of iterations. Duality gap: 2.4663360810751178e+17, tolerance: 2562629864685447.0\n",
      "  positive)\n",
      "c:\\python\\python37\\lib\\site-packages\\sklearn\\linear_model\\_coordinate_descent.py:476: ConvergenceWarning: Objective did not converge. You might want to increase the number of iterations. Duality gap: 1.1498603446893942e+17, tolerance: 2657614160797556.5\n",
      "  positive)\n",
      "c:\\python\\python37\\lib\\site-packages\\sklearn\\linear_model\\_coordinate_descent.py:476: ConvergenceWarning: Objective did not converge. You might want to increase the number of iterations. Duality gap: 1.1078001982664693e+17, tolerance: 2680762215264928.5\n",
      "  positive)\n",
      "c:\\python\\python37\\lib\\site-packages\\sklearn\\linear_model\\_coordinate_descent.py:476: ConvergenceWarning: Objective did not converge. You might want to increase the number of iterations. Duality gap: 7.263272081621584e+16, tolerance: 3208409791520931.0\n",
      "  positive)\n",
      "c:\\python\\python37\\lib\\site-packages\\sklearn\\linear_model\\_coordinate_descent.py:476: ConvergenceWarning: Objective did not converge. You might want to increase the number of iterations. Duality gap: 8.323995466639466e+16, tolerance: 2577583827775797.0\n",
      "  positive)\n",
      "c:\\python\\python37\\lib\\site-packages\\sklearn\\linear_model\\_coordinate_descent.py:476: ConvergenceWarning: Objective did not converge. You might want to increase the number of iterations. Duality gap: 1.3550538528668021e+17, tolerance: 2562629864685447.0\n",
      "  positive)\n",
      "c:\\python\\python37\\lib\\site-packages\\sklearn\\linear_model\\_coordinate_descent.py:476: ConvergenceWarning: Objective did not converge. You might want to increase the number of iterations. Duality gap: 6.872427748946145e+16, tolerance: 2657614160797556.5\n",
      "  positive)\n",
      "c:\\python\\python37\\lib\\site-packages\\sklearn\\linear_model\\_coordinate_descent.py:476: ConvergenceWarning: Objective did not converge. You might want to increase the number of iterations. Duality gap: 3.961150608972669e+16, tolerance: 2680762215264928.5\n",
      "  positive)\n"
     ]
    },
    {
     "data": {
      "text/plain": [
       "{'lasso__alpha': 10, 'polynomialfeatures__degree': 1}"
      ]
     },
     "execution_count": 43,
     "metadata": {},
     "output_type": "execute_result"
    }
   ],
   "source": [
    "grid_2 = GridSearchCV(make_pipeline(PolynomialFeatures(), Lasso(random_state=seed)),\n",
    "                    param_grid={'polynomialfeatures__degree': [1, 2, 3, 4],\n",
    "                    'lasso__alpha': [0.01, 0.1, 1, 10]\n",
    "                               },\n",
    "                    cv=kfold,\n",
    "                    refit=True)\n",
    "grid_2.fit(x_train, y_train)\n",
    "grid_2.best_params_"
   ]
  },
  {
   "cell_type": "code",
   "execution_count": 44,
   "metadata": {},
   "outputs": [
    {
     "name": "stderr",
     "output_type": "stream",
     "text": [
      "c:\\python\\python37\\lib\\site-packages\\sklearn\\linear_model\\_ridge.py:190: UserWarning: Singular matrix in solving dual problem. Using least-squares solution instead.\n",
      "  warnings.warn(\"Singular matrix in solving dual problem. Using \"\n",
      "c:\\python\\python37\\lib\\site-packages\\sklearn\\linear_model\\_ridge.py:190: UserWarning: Singular matrix in solving dual problem. Using least-squares solution instead.\n",
      "  warnings.warn(\"Singular matrix in solving dual problem. Using \"\n",
      "c:\\python\\python37\\lib\\site-packages\\sklearn\\linear_model\\_ridge.py:190: UserWarning: Singular matrix in solving dual problem. Using least-squares solution instead.\n",
      "  warnings.warn(\"Singular matrix in solving dual problem. Using \"\n",
      "c:\\python\\python37\\lib\\site-packages\\sklearn\\linear_model\\_ridge.py:190: UserWarning: Singular matrix in solving dual problem. Using least-squares solution instead.\n",
      "  warnings.warn(\"Singular matrix in solving dual problem. Using \"\n",
      "c:\\python\\python37\\lib\\site-packages\\sklearn\\linear_model\\_ridge.py:190: UserWarning: Singular matrix in solving dual problem. Using least-squares solution instead.\n",
      "  warnings.warn(\"Singular matrix in solving dual problem. Using \"\n",
      "c:\\python\\python37\\lib\\site-packages\\sklearn\\linear_model\\_ridge.py:188: LinAlgWarning: Ill-conditioned matrix (rcond=9.61651e-19): result may not be accurate.\n",
      "  overwrite_a=False)\n",
      "c:\\python\\python37\\lib\\site-packages\\sklearn\\linear_model\\_ridge.py:188: LinAlgWarning: Ill-conditioned matrix (rcond=4.42353e-18): result may not be accurate.\n",
      "  overwrite_a=False)\n",
      "c:\\python\\python37\\lib\\site-packages\\sklearn\\linear_model\\_ridge.py:188: LinAlgWarning: Ill-conditioned matrix (rcond=4.45988e-18): result may not be accurate.\n",
      "  overwrite_a=False)\n",
      "c:\\python\\python37\\lib\\site-packages\\sklearn\\linear_model\\_ridge.py:190: UserWarning: Singular matrix in solving dual problem. Using least-squares solution instead.\n",
      "  warnings.warn(\"Singular matrix in solving dual problem. Using \"\n",
      "c:\\python\\python37\\lib\\site-packages\\sklearn\\linear_model\\_ridge.py:190: UserWarning: Singular matrix in solving dual problem. Using least-squares solution instead.\n",
      "  warnings.warn(\"Singular matrix in solving dual problem. Using \"\n",
      "c:\\python\\python37\\lib\\site-packages\\sklearn\\linear_model\\_ridge.py:188: LinAlgWarning: Ill-conditioned matrix (rcond=3.82802e-17): result may not be accurate.\n",
      "  overwrite_a=False)\n",
      "c:\\python\\python37\\lib\\site-packages\\sklearn\\linear_model\\_ridge.py:188: LinAlgWarning: Ill-conditioned matrix (rcond=8.99695e-17): result may not be accurate.\n",
      "  overwrite_a=False)\n",
      "c:\\python\\python37\\lib\\site-packages\\sklearn\\linear_model\\_ridge.py:188: LinAlgWarning: Ill-conditioned matrix (rcond=4.14419e-17): result may not be accurate.\n",
      "  overwrite_a=False)\n",
      "c:\\python\\python37\\lib\\site-packages\\sklearn\\linear_model\\_ridge.py:188: LinAlgWarning: Ill-conditioned matrix (rcond=5.2846e-17): result may not be accurate.\n",
      "  overwrite_a=False)\n",
      "c:\\python\\python37\\lib\\site-packages\\sklearn\\linear_model\\_ridge.py:188: LinAlgWarning: Ill-conditioned matrix (rcond=3.95908e-17): result may not be accurate.\n",
      "  overwrite_a=False)\n",
      "c:\\python\\python37\\lib\\site-packages\\sklearn\\linear_model\\_ridge.py:188: LinAlgWarning: Ill-conditioned matrix (rcond=7.83114e-19): result may not be accurate.\n",
      "  overwrite_a=False)\n",
      "c:\\python\\python37\\lib\\site-packages\\sklearn\\linear_model\\_ridge.py:188: LinAlgWarning: Ill-conditioned matrix (rcond=6.84223e-19): result may not be accurate.\n",
      "  overwrite_a=False)\n",
      "c:\\python\\python37\\lib\\site-packages\\sklearn\\linear_model\\_ridge.py:190: UserWarning: Singular matrix in solving dual problem. Using least-squares solution instead.\n",
      "  warnings.warn(\"Singular matrix in solving dual problem. Using \"\n",
      "c:\\python\\python37\\lib\\site-packages\\sklearn\\linear_model\\_ridge.py:188: LinAlgWarning: Ill-conditioned matrix (rcond=7.95636e-19): result may not be accurate.\n",
      "  overwrite_a=False)\n",
      "c:\\python\\python37\\lib\\site-packages\\sklearn\\linear_model\\_ridge.py:188: LinAlgWarning: Ill-conditioned matrix (rcond=3.02395e-19): result may not be accurate.\n",
      "  overwrite_a=False)\n",
      "c:\\python\\python37\\lib\\site-packages\\sklearn\\linear_model\\_ridge.py:188: LinAlgWarning: Ill-conditioned matrix (rcond=7.83114e-19): result may not be accurate.\n",
      "  overwrite_a=False)\n",
      "c:\\python\\python37\\lib\\site-packages\\sklearn\\linear_model\\_ridge.py:188: LinAlgWarning: Ill-conditioned matrix (rcond=6.88885e-19): result may not be accurate.\n",
      "  overwrite_a=False)\n",
      "c:\\python\\python37\\lib\\site-packages\\sklearn\\linear_model\\_ridge.py:190: UserWarning: Singular matrix in solving dual problem. Using least-squares solution instead.\n",
      "  warnings.warn(\"Singular matrix in solving dual problem. Using \"\n",
      "c:\\python\\python37\\lib\\site-packages\\sklearn\\linear_model\\_ridge.py:188: LinAlgWarning: Ill-conditioned matrix (rcond=7.95636e-19): result may not be accurate.\n",
      "  overwrite_a=False)\n",
      "c:\\python\\python37\\lib\\site-packages\\sklearn\\linear_model\\_ridge.py:188: LinAlgWarning: Ill-conditioned matrix (rcond=3.02395e-19): result may not be accurate.\n",
      "  overwrite_a=False)\n",
      "c:\\python\\python37\\lib\\site-packages\\sklearn\\linear_model\\_ridge.py:188: LinAlgWarning: Ill-conditioned matrix (rcond=7.83114e-19): result may not be accurate.\n",
      "  overwrite_a=False)\n",
      "c:\\python\\python37\\lib\\site-packages\\sklearn\\linear_model\\_ridge.py:188: LinAlgWarning: Ill-conditioned matrix (rcond=1.78543e-18): result may not be accurate.\n",
      "  overwrite_a=False)\n",
      "c:\\python\\python37\\lib\\site-packages\\sklearn\\linear_model\\_ridge.py:190: UserWarning: Singular matrix in solving dual problem. Using least-squares solution instead.\n",
      "  warnings.warn(\"Singular matrix in solving dual problem. Using \"\n",
      "c:\\python\\python37\\lib\\site-packages\\sklearn\\linear_model\\_ridge.py:188: LinAlgWarning: Ill-conditioned matrix (rcond=6.40105e-19): result may not be accurate.\n",
      "  overwrite_a=False)\n",
      "c:\\python\\python37\\lib\\site-packages\\sklearn\\linear_model\\_ridge.py:188: LinAlgWarning: Ill-conditioned matrix (rcond=3.02397e-19): result may not be accurate.\n",
      "  overwrite_a=False)\n",
      "c:\\python\\python37\\lib\\site-packages\\sklearn\\linear_model\\_ridge.py:188: LinAlgWarning: Ill-conditioned matrix (rcond=7.826e-19): result may not be accurate.\n",
      "  overwrite_a=False)\n",
      "c:\\python\\python37\\lib\\site-packages\\sklearn\\linear_model\\_ridge.py:188: LinAlgWarning: Ill-conditioned matrix (rcond=1.9232e-18): result may not be accurate.\n",
      "  overwrite_a=False)\n",
      "c:\\python\\python37\\lib\\site-packages\\sklearn\\linear_model\\_ridge.py:190: UserWarning: Singular matrix in solving dual problem. Using least-squares solution instead.\n",
      "  warnings.warn(\"Singular matrix in solving dual problem. Using \"\n",
      "c:\\python\\python37\\lib\\site-packages\\sklearn\\linear_model\\_ridge.py:188: LinAlgWarning: Ill-conditioned matrix (rcond=6.70525e-19): result may not be accurate.\n",
      "  overwrite_a=False)\n",
      "c:\\python\\python37\\lib\\site-packages\\sklearn\\linear_model\\_ridge.py:188: LinAlgWarning: Ill-conditioned matrix (rcond=2.1221e-19): result may not be accurate.\n",
      "  overwrite_a=False)\n"
     ]
    },
    {
     "data": {
      "text/plain": [
       "{'polynomialfeatures__degree': 1, 'ridge__alpha': 10}"
      ]
     },
     "execution_count": 44,
     "metadata": {},
     "output_type": "execute_result"
    }
   ],
   "source": [
    "grid_3 = GridSearchCV(make_pipeline(PolynomialFeatures(), Ridge(random_state=seed)),\n",
    "                    param_grid={'polynomialfeatures__degree': [1, 2, 3, 4],\n",
    "                    'ridge__alpha': [0.01, 0.1, 1, 10]\n",
    "                               },\n",
    "                    cv=kfold,\n",
    "                    refit=True)\n",
    "grid_3.fit(x_train, y_train)\n",
    "grid_3.best_params_"
   ]
  },
  {
   "cell_type": "code",
   "execution_count": 45,
   "metadata": {},
   "outputs": [
    {
     "name": "stdout",
     "output_type": "stream",
     "text": [
      "ElasticNet\n",
      "R^2: 0.8496701133059624\n",
      "Explained variance score: 0.8649722099371111\n",
      "Median absolute error: 81178935.5132016\n",
      "Mean squared error: 3.91800649618786e+16\n",
      "Mean absolute errors: 151403969.6397851\n",
      "LinearRegression\n",
      "R^2: 0.8277438985792953\n",
      "Explained variance score: 0.8399826474734895\n",
      "Median absolute error: 138421779.21044773\n",
      "Mean squared error: 4.489463400899935e+16\n",
      "Mean absolute errors: 176954291.84488723\n",
      "Lasso\n",
      "R^2: 0.8277438791802623\n",
      "Explained variance score: 0.8399826500450263\n",
      "Median absolute error: 138421729.58437216\n",
      "Mean squared error: 4.489463906491601e+16\n",
      "Mean absolute errors: 176954285.08165237\n",
      "Ridge\n",
      "R^2: 0.8393474490557885\n",
      "Explained variance score: 0.8523876403694086\n",
      "Median absolute error: 134282198.8775506\n",
      "Mean squared error: 4.187043255807474e+16\n",
      "Mean absolute errors: 166076930.52322224\n"
     ]
    }
   ],
   "source": [
    "models = []\n",
    "models.append(('ElasticNet', grid_1.best_estimator_))\n",
    "models.append(('LinearRegression', reg))\n",
    "models.append(('Lasso', grid_2.best_estimator_))\n",
    "models.append(('Ridge', grid_3.best_estimator_))\n",
    "\n",
    "r2 = []\n",
    "explained_variance_score = []\n",
    "median_absolute_error = []\n",
    "mean_squared_error = []\n",
    "mean_absolute_error = []\n",
    "for name, model in models:\n",
    "    print(name)\n",
    "    print(\"R^2: {}\".format(metrics.r2_score(y_test, model.predict(x_test)) ))\n",
    "    print(\"Explained variance score: {}\".format( metrics.explained_variance_score(y_test, model.predict(x_test)) ))\n",
    "    print(\"Median absolute error: {}\".format( metrics.median_absolute_error(y_test, model.predict(x_test)) ))\n",
    "    print(\"Mean squared error: {}\".format( metrics.mean_squared_error(y_test, model.predict(x_test)) ))\n",
    "    print(\"Mean absolute errors: {}\".format(metrics.mean_absolute_error(y_test, model.predict(x_test)) ))\n",
    "    r2.append(metrics.r2_score(y_test, model.predict(x_test)))\n",
    "    explained_variance_score.append(metrics.explained_variance_score(y_test, model.predict(x_test)))\n",
    "    median_absolute_error.append( metrics.median_absolute_error(y_test, model.predict(x_test)))\n",
    "    mean_squared_error.append(metrics.mean_squared_error(y_test, model.predict(x_test)))\n",
    "    mean_absolute_error.append(metrics.mean_absolute_error(y_test, model.predict(x_test)))"
   ]
  },
  {
   "cell_type": "code",
   "execution_count": 46,
   "metadata": {},
   "outputs": [
    {
     "data": {
      "text/html": [
       "<div>\n",
       "<style scoped>\n",
       "    .dataframe tbody tr th:only-of-type {\n",
       "        vertical-align: middle;\n",
       "    }\n",
       "\n",
       "    .dataframe tbody tr th {\n",
       "        vertical-align: top;\n",
       "    }\n",
       "\n",
       "    .dataframe thead th {\n",
       "        text-align: right;\n",
       "    }\n",
       "</style>\n",
       "<table border=\"1\" class=\"dataframe\">\n",
       "  <thead>\n",
       "    <tr style=\"text-align: right;\">\n",
       "      <th></th>\n",
       "      <th>Method</th>\n",
       "      <th>r2</th>\n",
       "      <th>explained_variance_score</th>\n",
       "      <th>median_absolute_error</th>\n",
       "      <th>mean_squared_error</th>\n",
       "      <th>mean_absolute_error</th>\n",
       "    </tr>\n",
       "  </thead>\n",
       "  <tbody>\n",
       "    <tr>\n",
       "      <th>0</th>\n",
       "      <td>LinearRegression</td>\n",
       "      <td>0.849670</td>\n",
       "      <td>0.864972</td>\n",
       "      <td>8.117894e+07</td>\n",
       "      <td>3.918006e+16</td>\n",
       "      <td>1.514040e+08</td>\n",
       "    </tr>\n",
       "    <tr>\n",
       "      <th>1</th>\n",
       "      <td>ElasticNet</td>\n",
       "      <td>0.827744</td>\n",
       "      <td>0.839983</td>\n",
       "      <td>1.384218e+08</td>\n",
       "      <td>4.489463e+16</td>\n",
       "      <td>1.769543e+08</td>\n",
       "    </tr>\n",
       "    <tr>\n",
       "      <th>2</th>\n",
       "      <td>Lasso</td>\n",
       "      <td>0.827744</td>\n",
       "      <td>0.839983</td>\n",
       "      <td>1.384217e+08</td>\n",
       "      <td>4.489464e+16</td>\n",
       "      <td>1.769543e+08</td>\n",
       "    </tr>\n",
       "    <tr>\n",
       "      <th>3</th>\n",
       "      <td>Ridge</td>\n",
       "      <td>0.839347</td>\n",
       "      <td>0.852388</td>\n",
       "      <td>1.342822e+08</td>\n",
       "      <td>4.187043e+16</td>\n",
       "      <td>1.660769e+08</td>\n",
       "    </tr>\n",
       "  </tbody>\n",
       "</table>\n",
       "</div>"
      ],
      "text/plain": [
       "             Method        r2  explained_variance_score  \\\n",
       "0  LinearRegression  0.849670                  0.864972   \n",
       "1        ElasticNet  0.827744                  0.839983   \n",
       "2             Lasso  0.827744                  0.839983   \n",
       "3             Ridge  0.839347                  0.852388   \n",
       "\n",
       "   median_absolute_error  mean_squared_error  mean_absolute_error  \n",
       "0           8.117894e+07        3.918006e+16         1.514040e+08  \n",
       "1           1.384218e+08        4.489463e+16         1.769543e+08  \n",
       "2           1.384217e+08        4.489464e+16         1.769543e+08  \n",
       "3           1.342822e+08        4.187043e+16         1.660769e+08  "
      ]
     },
     "execution_count": 46,
     "metadata": {},
     "output_type": "execute_result"
    }
   ],
   "source": [
    "import pandas as pd\n",
    "d = {'r2': r2, \n",
    "     'explained_variance_score': explained_variance_score, \n",
    "     'median_absolute_error': median_absolute_error,\n",
    "     'mean_squared_error' : mean_squared_error,\n",
    "     'mean_absolute_error' : mean_absolute_error,\n",
    "    }\n",
    "df = pd.DataFrame(data=d)\n",
    "df.insert(loc=0, column='Method', value=['LinearRegression', 'ElasticNet', 'Lasso', 'Ridge'])#,'Lasso','Ridge','LR'])\n",
    "#df.insert(loc=1, column='Method', value=['LinearRegression'])\n",
    "df"
   ]
  },
  {
   "cell_type": "code",
   "execution_count": 47,
   "metadata": {},
   "outputs": [],
   "source": [
    "from sklearn.linear_model import LogisticRegression\n",
    "\n",
    "#log_reg = LogisticRegression(random_state=42)\n",
    "#log_reg.fit(x_train, y_train)"
   ]
  },
  {
   "cell_type": "code",
   "execution_count": 48,
   "metadata": {},
   "outputs": [
    {
     "name": "stdout",
     "output_type": "stream",
     "text": [
      "     area  areabalcon  areaterraza  banos  estrato  garajes  habitaciones  \\\n",
      "99   60.0         0.0          0.0    1.0      3.0      0.0           3.0   \n",
      "92   90.0         0.0          0.0    2.0      4.0      2.0           3.0   \n",
      "76   82.0         0.0          0.0    2.0      5.0      2.0           2.0   \n",
      "14  107.0         0.0          0.0    2.0      4.0      2.0           3.0   \n",
      "0   145.0        10.0         10.0    3.0      6.0      2.0           3.0   \n",
      "..    ...         ...          ...    ...      ...      ...           ...   \n",
      "43   81.0         0.0          0.0    3.0      5.0      1.0           3.0   \n",
      "22  129.0         0.0          0.0    3.0      5.0      2.0           3.0   \n",
      "72  140.0         0.0          0.0    4.0      6.0      2.0           3.0   \n",
      "15  268.0         0.0          0.0    5.0      0.0      4.0           5.0   \n",
      "40  200.0         1.0          1.0    4.0      6.0      2.0           3.0   \n",
      "\n",
      "    halldealcobasoestar  jardin  tiempodeconstruido  \n",
      "99                    1       0                   2  \n",
      "92                    0       0                   1  \n",
      "76                    1       0                   0  \n",
      "14                    0       0                   1  \n",
      "0                     0       0                   1  \n",
      "..                  ...     ...                 ...  \n",
      "43                    1       1                   3  \n",
      "22                    0       0                   0  \n",
      "72                    1       0                   0  \n",
      "15                    0       0                   3  \n",
      "40                    1       0                   0  \n",
      "\n",
      "[90 rows x 10 columns]\n"
     ]
    },
    {
     "name": "stderr",
     "output_type": "stream",
     "text": [
      "c:\\python\\python37\\lib\\site-packages\\sklearn\\model_selection\\_split.py:296: FutureWarning: Setting a random_state has no effect since shuffle is False. This will raise an error in 0.24. You should leave random_state to its default (None), or set shuffle=True.\n",
      "  FutureWarning\n"
     ]
    }
   ],
   "source": [
    "from sklearn.model_selection import StratifiedKFold\n",
    "\n",
    "seed=123\n",
    "kfold = StratifiedKFold(n_splits=5, random_state=seed)\n",
    "\n",
    "print(x_train)"
   ]
  },
  {
   "cell_type": "code",
   "execution_count": 56,
   "metadata": {},
   "outputs": [],
   "source": [
    "def to_categorical(y, num_classes=None, dtype='float32'):\n",
    "\n",
    "    y = np.array(y, dtype='int')\n",
    "    input_shape = y.shape\n",
    "    if input_shape and input_shape[-1] == 1 and len(input_shape) > 1:\n",
    "        input_shape = tuple(input_shape[:-1])\n",
    "    y = y.ravel()\n",
    "    if not num_classes:\n",
    "        num_classes = np.max(y) + 1\n",
    "    n = y.shape[0]\n",
    "    categorical = np.zeros((n, num_classes), dtype=dtype)\n",
    "    categorical[np.arange(n), y] = 1\n",
    "    output_shape = input_shape + (num_classes,)\n",
    "    categorical = np.reshape(categorical, output_shape)\n",
    "    return categorical"
   ]
  },
  {
   "cell_type": "code",
   "execution_count": 58,
   "metadata": {},
   "outputs": [
    {
     "ename": "IndexError",
     "evalue": "index 150000000 is out of bounds for axis 1 with size 2",
     "output_type": "error",
     "traceback": [
      "\u001b[1;31m---------------------------------------------------------------------------\u001b[0m",
      "\u001b[1;31mIndexError\u001b[0m                                Traceback (most recent call last)",
      "\u001b[1;32m<ipython-input-58-340665073e45>\u001b[0m in \u001b[0;36m<module>\u001b[1;34m\u001b[0m\n\u001b[0;32m      4\u001b[0m \u001b[1;32mfrom\u001b[0m \u001b[0msklearn\u001b[0m\u001b[1;33m.\u001b[0m\u001b[0msvm\u001b[0m \u001b[1;32mimport\u001b[0m \u001b[0mSVC\u001b[0m\u001b[1;33m\u001b[0m\u001b[1;33m\u001b[0m\u001b[0m\n\u001b[0;32m      5\u001b[0m \u001b[1;33m\u001b[0m\u001b[0m\n\u001b[1;32m----> 6\u001b[1;33m \u001b[0my_train\u001b[0m \u001b[1;33m=\u001b[0m \u001b[0mto_categorical\u001b[0m\u001b[1;33m(\u001b[0m\u001b[0my_train\u001b[0m\u001b[1;33m,\u001b[0m \u001b[1;36m2\u001b[0m\u001b[1;33m)\u001b[0m\u001b[1;33m\u001b[0m\u001b[1;33m\u001b[0m\u001b[0m\n\u001b[0m\u001b[0;32m      7\u001b[0m \u001b[0my_test\u001b[0m \u001b[1;33m=\u001b[0m \u001b[0mto_categorical\u001b[0m\u001b[1;33m(\u001b[0m\u001b[0my_test\u001b[0m\u001b[1;33m,\u001b[0m \u001b[1;36m2\u001b[0m\u001b[1;33m)\u001b[0m\u001b[1;33m\u001b[0m\u001b[1;33m\u001b[0m\u001b[0m\n\u001b[0;32m      8\u001b[0m \u001b[1;33m\u001b[0m\u001b[0m\n",
      "\u001b[1;32m<ipython-input-56-379733563bc3>\u001b[0m in \u001b[0;36mto_categorical\u001b[1;34m(y, num_classes, dtype)\u001b[0m\n\u001b[0;32m     10\u001b[0m     \u001b[0mn\u001b[0m \u001b[1;33m=\u001b[0m \u001b[0my\u001b[0m\u001b[1;33m.\u001b[0m\u001b[0mshape\u001b[0m\u001b[1;33m[\u001b[0m\u001b[1;36m0\u001b[0m\u001b[1;33m]\u001b[0m\u001b[1;33m\u001b[0m\u001b[1;33m\u001b[0m\u001b[0m\n\u001b[0;32m     11\u001b[0m     \u001b[0mcategorical\u001b[0m \u001b[1;33m=\u001b[0m \u001b[0mnp\u001b[0m\u001b[1;33m.\u001b[0m\u001b[0mzeros\u001b[0m\u001b[1;33m(\u001b[0m\u001b[1;33m(\u001b[0m\u001b[0mn\u001b[0m\u001b[1;33m,\u001b[0m \u001b[0mnum_classes\u001b[0m\u001b[1;33m)\u001b[0m\u001b[1;33m,\u001b[0m \u001b[0mdtype\u001b[0m\u001b[1;33m=\u001b[0m\u001b[0mdtype\u001b[0m\u001b[1;33m)\u001b[0m\u001b[1;33m\u001b[0m\u001b[1;33m\u001b[0m\u001b[0m\n\u001b[1;32m---> 12\u001b[1;33m     \u001b[0mcategorical\u001b[0m\u001b[1;33m[\u001b[0m\u001b[0mnp\u001b[0m\u001b[1;33m.\u001b[0m\u001b[0marange\u001b[0m\u001b[1;33m(\u001b[0m\u001b[0mn\u001b[0m\u001b[1;33m)\u001b[0m\u001b[1;33m,\u001b[0m \u001b[0my\u001b[0m\u001b[1;33m]\u001b[0m \u001b[1;33m=\u001b[0m \u001b[1;36m1\u001b[0m\u001b[1;33m\u001b[0m\u001b[1;33m\u001b[0m\u001b[0m\n\u001b[0m\u001b[0;32m     13\u001b[0m     \u001b[0moutput_shape\u001b[0m \u001b[1;33m=\u001b[0m \u001b[0minput_shape\u001b[0m \u001b[1;33m+\u001b[0m \u001b[1;33m(\u001b[0m\u001b[0mnum_classes\u001b[0m\u001b[1;33m,\u001b[0m\u001b[1;33m)\u001b[0m\u001b[1;33m\u001b[0m\u001b[1;33m\u001b[0m\u001b[0m\n\u001b[0;32m     14\u001b[0m     \u001b[0mcategorical\u001b[0m \u001b[1;33m=\u001b[0m \u001b[0mnp\u001b[0m\u001b[1;33m.\u001b[0m\u001b[0mreshape\u001b[0m\u001b[1;33m(\u001b[0m\u001b[0mcategorical\u001b[0m\u001b[1;33m,\u001b[0m \u001b[0moutput_shape\u001b[0m\u001b[1;33m)\u001b[0m\u001b[1;33m\u001b[0m\u001b[1;33m\u001b[0m\u001b[0m\n",
      "\u001b[1;31mIndexError\u001b[0m: index 150000000 is out of bounds for axis 1 with size 2"
     ]
    }
   ],
   "source": [
    "from sklearn.model_selection import GridSearchCV\n",
    "from sklearn.preprocessing import StandardScaler\n",
    "from sklearn.pipeline import Pipeline\n",
    "from sklearn.svm import SVC\n",
    "\n",
    "y_train = to_categorical(y_train, num_classes)\n",
    "y_test = to_categorical(y_test, num_classes)\n",
    "\n",
    "pipe1 = Pipeline([('preprocessing', StandardScaler()), ('classifier', SVC(kernel=\"rbf\"))])\n",
    "\n",
    "param_grid1 = {\n",
    "            'preprocessing': [StandardScaler(), None],\n",
    "            'classifier__gamma': [0.001, 0.01, 0.1, 1, 10, 100],\n",
    "            'classifier__C': [0.001, 0.01, 0.1, 1, 10, 100]\n",
    "}\n",
    "\n",
    "grid_1 = GridSearchCV(pipe1, param_grid1, cv=kfold, return_train_score=True)\n",
    "\n",
    "grid_1.fit(x_train, y_train)\n",
    "#grid_1.best_params_"
   ]
  },
  {
   "cell_type": "code",
   "execution_count": 123,
   "metadata": {},
   "outputs": [
    {
     "name": "stdout",
     "output_type": "stream",
     "text": [
      "99    1.500000e+08\n",
      "92    3.950000e+08\n",
      "76    5.300000e+08\n",
      "14    4.650000e+08\n",
      "0     9.000000e+08\n",
      "          ...     \n",
      "43    3.600000e+08\n",
      "22    9.312480e+08\n",
      "72    8.900000e+08\n",
      "15    1.900000e+09\n",
      "40    1.580000e+09\n",
      "Name: valorventa, Length: 90, dtype: float64\n"
     ]
    }
   ],
   "source": [
    "print(y_train)"
   ]
  },
  {
   "cell_type": "code",
   "execution_count": null,
   "metadata": {},
   "outputs": [],
   "source": []
  }
 ],
 "metadata": {
  "kernelspec": {
   "display_name": "Python 3",
   "language": "python",
   "name": "python3"
  },
  "language_info": {
   "codemirror_mode": {
    "name": "ipython",
    "version": 3
   },
   "file_extension": ".py",
   "mimetype": "text/x-python",
   "name": "python",
   "nbconvert_exporter": "python",
   "pygments_lexer": "ipython3",
   "version": "3.7.3"
  }
 },
 "nbformat": 4,
 "nbformat_minor": 4
}
