{
 "cells": [
  {
   "cell_type": "code",
   "execution_count": 3,
   "metadata": {},
   "outputs": [
    {
     "name": "stderr",
     "output_type": "stream",
     "text": [
      "Using TensorFlow backend.\n"
     ]
    }
   ],
   "source": [
    "import numpy as np \n",
    "import pandas as pd\n",
    "import matplotlib.pyplot as plt\n",
    "import seaborn as sns\n",
    "from sklearn.model_selection import train_test_split as split\n",
    "from sklearn import  linear_model as lr\n",
    "from sklearn.metrics import mean_squared_error, r2_score\n",
    "import pickle\n",
    "from sklearn.ensemble import RandomForestRegressor\n",
    "from keras.models import Sequential\n",
    "from keras.layers import Dense\n",
    "from keras import optimizers\n",
    "from sklearn.preprocessing import StandardScaler as ss\n",
    "from scipy import stats\n",
    "import tensorflow as tf\n",
    "import keras"
   ]
  },
  {
   "cell_type": "code",
   "execution_count": 4,
   "metadata": {},
   "outputs": [
    {
     "name": "stdout",
     "output_type": "stream",
     "text": [
      "Working\n"
     ]
    }
   ],
   "source": [
    "import pandas as pd\n",
    "df = pd.read_csv(\"Sales_prediction_Colombia.csv\")\n",
    "\n",
    "print('Working')"
   ]
  },
  {
   "cell_type": "code",
   "execution_count": 5,
   "metadata": {},
   "outputs": [],
   "source": [
    "\n",
    "\n",
    "df = pd.read_csv(\"Sales_prediction_Colombia.csv\")\n",
    "#data_top = df.head()\n",
    "#data_top \n",
    "#print(df['area'])\n",
    "df = df[['area', 'areabalcon', 'areaterraza',  'banos', 'estrato', 'garajes', 'habitaciones',  'halldealcobasoestar', 'jardin', 'tiempodeconstruido', 'valorventa']]\n",
    "#'latitud','longitud', "
   ]
  },
  {
   "cell_type": "code",
   "execution_count": 6,
   "metadata": {},
   "outputs": [
    {
     "name": "stdout",
     "output_type": "stream",
     "text": [
      "         area  areabalcon  areaterraza  banos  estrato  garajes  habitaciones  \\\n",
      "0       145.0       10.00        10.00    3.0      6.0      2.0           3.0   \n",
      "1       114.0        0.00         0.00    3.0      4.0      0.0           3.0   \n",
      "2       170.0       30.00        30.00    4.0      6.0      3.0           2.0   \n",
      "3        61.0        0.00         0.00    1.0      6.0      1.0           1.0   \n",
      "4       120.5        0.00         0.00    3.0      0.0      2.0           2.0   \n",
      "...       ...         ...          ...    ...      ...      ...           ...   \n",
      "145547  118.0        0.00         0.00    3.0      5.0      1.0           3.0   \n",
      "145548   89.0       10.00        10.00    3.0      3.0      1.0           3.0   \n",
      "145549   88.0        0.00         0.00    3.0      6.0      2.0           2.0   \n",
      "145550  173.0       25.68        25.68    3.0      6.0      3.0           2.0   \n",
      "145551  106.0        0.00         0.00    2.0      3.0      1.0           3.0   \n",
      "\n",
      "        halldealcobasoestar  jardin  tiempodeconstruido    valorventa  \n",
      "0                         0       0                   1  9.000000e+08  \n",
      "1                         0       0                   0  5.481475e+08  \n",
      "2                         1       0                   1  1.500000e+09  \n",
      "3                         1       0                   0  4.950000e+08  \n",
      "4                         0       0                   3  8.500000e+08  \n",
      "...                     ...     ...                 ...           ...  \n",
      "145547                    0       0                   0  8.000000e+08  \n",
      "145548                    1       0                   0  3.200000e+08  \n",
      "145549                    0       0                   0  9.500000e+08  \n",
      "145550                    0       0                   2  1.450000e+09  \n",
      "145551                    0       0                   3  4.500000e+08  \n",
      "\n",
      "[145552 rows x 11 columns]\n"
     ]
    }
   ],
   "source": [
    "df = df.fillna(0) \n",
    "df = df.replace(to_replace = \"Si\",\n",
    "                 value = 1)\n",
    "df = df.replace(to_replace = \"Entre 0 y 5 años\",\n",
    "                 value = 0)\n",
    "df = df.replace(to_replace = \"Entre 5 y 10 años\",\n",
    "                 value = 1)\n",
    "df = df.replace(to_replace = \"Entre 10 y 20 años\",\n",
    "                 value = 2)\n",
    "df = df.replace(to_replace = \"Más de 20 años\",\n",
    "                 value = 3)\n",
    "print(df)"
   ]
  },
  {
   "cell_type": "code",
   "execution_count": 7,
   "metadata": {},
   "outputs": [
    {
     "data": {
      "text/plain": [
       "False"
      ]
     },
     "execution_count": 7,
     "metadata": {},
     "output_type": "execute_result"
    }
   ],
   "source": [
    "df.isnull().values.any()"
   ]
  },
  {
   "cell_type": "code",
   "execution_count": 8,
   "metadata": {},
   "outputs": [],
   "source": [
    "x = df.drop(['valorventa'], axis = 1).values\n",
    "y = df['valorventa'].values"
   ]
  },
  {
   "cell_type": "code",
   "execution_count": 9,
   "metadata": {},
   "outputs": [
    {
     "data": {
      "text/html": [
       "<div>\n",
       "<style scoped>\n",
       "    .dataframe tbody tr th:only-of-type {\n",
       "        vertical-align: middle;\n",
       "    }\n",
       "\n",
       "    .dataframe tbody tr th {\n",
       "        vertical-align: top;\n",
       "    }\n",
       "\n",
       "    .dataframe thead th {\n",
       "        text-align: right;\n",
       "    }\n",
       "</style>\n",
       "<table border=\"1\" class=\"dataframe\">\n",
       "  <thead>\n",
       "    <tr style=\"text-align: right;\">\n",
       "      <th></th>\n",
       "      <th>area</th>\n",
       "      <th>areabalcon</th>\n",
       "      <th>areaterraza</th>\n",
       "      <th>banos</th>\n",
       "      <th>estrato</th>\n",
       "      <th>garajes</th>\n",
       "      <th>habitaciones</th>\n",
       "      <th>halldealcobasoestar</th>\n",
       "      <th>jardin</th>\n",
       "      <th>tiempodeconstruido</th>\n",
       "      <th>valorventa</th>\n",
       "    </tr>\n",
       "  </thead>\n",
       "  <tbody>\n",
       "    <tr>\n",
       "      <th>0</th>\n",
       "      <td>145.0</td>\n",
       "      <td>10.0</td>\n",
       "      <td>10.0</td>\n",
       "      <td>3.0</td>\n",
       "      <td>6.0</td>\n",
       "      <td>2.0</td>\n",
       "      <td>3.0</td>\n",
       "      <td>0</td>\n",
       "      <td>0</td>\n",
       "      <td>1</td>\n",
       "      <td>9.000000e+08</td>\n",
       "    </tr>\n",
       "    <tr>\n",
       "      <th>1</th>\n",
       "      <td>114.0</td>\n",
       "      <td>0.0</td>\n",
       "      <td>0.0</td>\n",
       "      <td>3.0</td>\n",
       "      <td>4.0</td>\n",
       "      <td>0.0</td>\n",
       "      <td>3.0</td>\n",
       "      <td>0</td>\n",
       "      <td>0</td>\n",
       "      <td>0</td>\n",
       "      <td>5.481475e+08</td>\n",
       "    </tr>\n",
       "    <tr>\n",
       "      <th>2</th>\n",
       "      <td>170.0</td>\n",
       "      <td>30.0</td>\n",
       "      <td>30.0</td>\n",
       "      <td>4.0</td>\n",
       "      <td>6.0</td>\n",
       "      <td>3.0</td>\n",
       "      <td>2.0</td>\n",
       "      <td>1</td>\n",
       "      <td>0</td>\n",
       "      <td>1</td>\n",
       "      <td>1.500000e+09</td>\n",
       "    </tr>\n",
       "    <tr>\n",
       "      <th>3</th>\n",
       "      <td>61.0</td>\n",
       "      <td>0.0</td>\n",
       "      <td>0.0</td>\n",
       "      <td>1.0</td>\n",
       "      <td>6.0</td>\n",
       "      <td>1.0</td>\n",
       "      <td>1.0</td>\n",
       "      <td>1</td>\n",
       "      <td>0</td>\n",
       "      <td>0</td>\n",
       "      <td>4.950000e+08</td>\n",
       "    </tr>\n",
       "    <tr>\n",
       "      <th>4</th>\n",
       "      <td>120.5</td>\n",
       "      <td>0.0</td>\n",
       "      <td>0.0</td>\n",
       "      <td>3.0</td>\n",
       "      <td>0.0</td>\n",
       "      <td>2.0</td>\n",
       "      <td>2.0</td>\n",
       "      <td>0</td>\n",
       "      <td>0</td>\n",
       "      <td>3</td>\n",
       "      <td>8.500000e+08</td>\n",
       "    </tr>\n",
       "  </tbody>\n",
       "</table>\n",
       "</div>"
      ],
      "text/plain": [
       "    area  areabalcon  areaterraza  banos  estrato  garajes  habitaciones  \\\n",
       "0  145.0        10.0         10.0    3.0      6.0      2.0           3.0   \n",
       "1  114.0         0.0          0.0    3.0      4.0      0.0           3.0   \n",
       "2  170.0        30.0         30.0    4.0      6.0      3.0           2.0   \n",
       "3   61.0         0.0          0.0    1.0      6.0      1.0           1.0   \n",
       "4  120.5         0.0          0.0    3.0      0.0      2.0           2.0   \n",
       "\n",
       "   halldealcobasoestar  jardin  tiempodeconstruido    valorventa  \n",
       "0                    0       0                   1  9.000000e+08  \n",
       "1                    0       0                   0  5.481475e+08  \n",
       "2                    1       0                   1  1.500000e+09  \n",
       "3                    1       0                   0  4.950000e+08  \n",
       "4                    0       0                   3  8.500000e+08  "
      ]
     },
     "execution_count": 9,
     "metadata": {},
     "output_type": "execute_result"
    }
   ],
   "source": [
    "df.head()"
   ]
  },
  {
   "cell_type": "code",
   "execution_count": 10,
   "metadata": {},
   "outputs": [],
   "source": [
    "df=df.dropna()\n",
    "df_log=df.copy()\n",
    "df_log[\"log_area\"]=np.log(df_log['area']+1)\n",
    "df_log[\"log_area_bal\"]=np.log(df_log['areabalcon']+1)\n",
    "df_log[\"log_valor\"]=np.log(df_log['valorventa']+1)"
   ]
  },
  {
   "cell_type": "code",
   "execution_count": 11,
   "metadata": {},
   "outputs": [],
   "source": [
    "Q1 = df_log.log_valor.quantile(0.25)\n",
    "Q3 = df_log.log_valor.quantile(0.75)\n",
    "IQR = Q3 - Q1\n",
    "lower=Q1 - 1.5 * IQR\n",
    "upper=Q3 + 1.5 * IQR\n",
    "df_log = df_log[(df_log.log_valor <upper)|(df_log.log_valor<lower)]"
   ]
  },
  {
   "cell_type": "code",
   "execution_count": 12,
   "metadata": {},
   "outputs": [],
   "source": [
    "df_log[\"log_area\"]=np.log(df_log['area']+1)"
   ]
  },
  {
   "cell_type": "code",
   "execution_count": 13,
   "metadata": {},
   "outputs": [],
   "source": [
    "#df_log[\"log_latitud\"]=np.log(df_log['latitud']+1)\n",
    "#df_log[\"log_longitud\"]=np.log(abs(df_log['longitud']+1))"
   ]
  },
  {
   "cell_type": "code",
   "execution_count": 14,
   "metadata": {},
   "outputs": [
    {
     "data": {
      "image/png": "[encoded data removed]",
      "text/plain": [
       "<Figure size 864x648 with 2 Axes>"
      ]
     },
     "metadata": {
      "needs_background": "light"
     },
     "output_type": "display_data"
    }
   ],
   "source": [
    "import seaborn as sns\n",
    "\n",
    "corrmat = df.corr()\n",
    "f, ax = plt.subplots(figsize=(12, 9))\n",
    "sns.heatmap(corrmat, vmax=.8, square=True);"
   ]
  },
  {
   "cell_type": "code",
   "execution_count": 15,
   "metadata": {},
   "outputs": [
    {
     "data": {
      "text/html": [
       "<div>\n",
       "<style scoped>\n",
       "    .dataframe tbody tr th:only-of-type {\n",
       "        vertical-align: middle;\n",
       "    }\n",
       "\n",
       "    .dataframe tbody tr th {\n",
       "        vertical-align: top;\n",
       "    }\n",
       "\n",
       "    .dataframe thead th {\n",
       "        text-align: right;\n",
       "    }\n",
       "</style>\n",
       "<table border=\"1\" class=\"dataframe\">\n",
       "  <thead>\n",
       "    <tr style=\"text-align: right;\">\n",
       "      <th></th>\n",
       "      <th>Most Correlated Features</th>\n",
       "    </tr>\n",
       "  </thead>\n",
       "  <tbody>\n",
       "    <tr>\n",
       "      <th>0</th>\n",
       "      <td>valorventa</td>\n",
       "    </tr>\n",
       "    <tr>\n",
       "      <th>1</th>\n",
       "      <td>estrato</td>\n",
       "    </tr>\n",
       "    <tr>\n",
       "      <th>2</th>\n",
       "      <td>tiempodeconstruido</td>\n",
       "    </tr>\n",
       "    <tr>\n",
       "      <th>3</th>\n",
       "      <td>halldealcobasoestar</td>\n",
       "    </tr>\n",
       "    <tr>\n",
       "      <th>4</th>\n",
       "      <td>garajes</td>\n",
       "    </tr>\n",
       "    <tr>\n",
       "      <th>5</th>\n",
       "      <td>banos</td>\n",
       "    </tr>\n",
       "    <tr>\n",
       "      <th>6</th>\n",
       "      <td>area</td>\n",
       "    </tr>\n",
       "    <tr>\n",
       "      <th>7</th>\n",
       "      <td>habitaciones</td>\n",
       "    </tr>\n",
       "    <tr>\n",
       "      <th>8</th>\n",
       "      <td>areabalcon</td>\n",
       "    </tr>\n",
       "    <tr>\n",
       "      <th>9</th>\n",
       "      <td>areaterraza</td>\n",
       "    </tr>\n",
       "  </tbody>\n",
       "</table>\n",
       "</div>"
      ],
      "text/plain": [
       "  Most Correlated Features\n",
       "0               valorventa\n",
       "1                  estrato\n",
       "2       tiempodeconstruido\n",
       "3      halldealcobasoestar\n",
       "4                  garajes\n",
       "5                    banos\n",
       "6                     area\n",
       "7             habitaciones\n",
       "8               areabalcon\n",
       "9              areaterraza"
      ]
     },
     "execution_count": 15,
     "metadata": {},
     "output_type": "execute_result"
    }
   ],
   "source": [
    "k = 10\n",
    "cols = corrmat.nlargest(k, 'valorventa')['valorventa'].index\n",
    "most_corr = pd.DataFrame(cols)\n",
    "most_corr.columns = ['Most Correlated Features']\n",
    "most_corr"
   ]
  },
  {
   "cell_type": "code",
   "execution_count": 16,
   "metadata": {},
   "outputs": [
    {
     "data": {
      "text/plain": [
       "Text(0.5, 1, 'log_valor vs. log_area')"
      ]
     },
     "execution_count": 16,
     "metadata": {},
     "output_type": "execute_result"
    },
    {
     "data": {
      "image/png": "[encoded data removed]",
      "text/plain": [
       "<Figure size 720x360 with 1 Axes>"
      ]
     },
     "metadata": {
      "needs_background": "light"
     },
     "output_type": "display_data"
    }
   ],
   "source": [
    "sns.lmplot(x='log_area',y='log_valor',data = df_log, \n",
    "           line_kws = {'color': \"red\"} ,aspect= 2, scatter_kws={\"s\": 5})\n",
    "plt.title(\"log_valor vs. log_area\")"
   ]
  },
  {
   "cell_type": "code",
   "execution_count": 17,
   "metadata": {},
   "outputs": [],
   "source": [
    "df_log_clean = df_log.drop([\"valorventa\",\"area\", \"areabalcon\" ], axis=1)"
   ]
  },
  {
   "cell_type": "code",
   "execution_count": 18,
   "metadata": {},
   "outputs": [],
   "source": [
    "x=df_log_clean.drop(\"log_valor\", axis=1)\n",
    "y=df_log_clean[[\"log_valor\"]]"
   ]
  },
  {
   "cell_type": "code",
   "execution_count": 19,
   "metadata": {},
   "outputs": [
    {
     "name": "stdout",
     "output_type": "stream",
     "text": [
      "        areaterraza  banos  estrato  garajes  habitaciones  \\\n",
      "0             10.00    3.0      6.0      2.0           3.0   \n",
      "1              0.00    3.0      4.0      0.0           3.0   \n",
      "2             30.00    4.0      6.0      3.0           2.0   \n",
      "3              0.00    1.0      6.0      1.0           1.0   \n",
      "4              0.00    3.0      0.0      2.0           2.0   \n",
      "...             ...    ...      ...      ...           ...   \n",
      "145547         0.00    3.0      5.0      1.0           3.0   \n",
      "145548        10.00    3.0      3.0      1.0           3.0   \n",
      "145549         0.00    3.0      6.0      2.0           2.0   \n",
      "145550        25.68    3.0      6.0      3.0           2.0   \n",
      "145551         0.00    2.0      3.0      1.0           3.0   \n",
      "\n",
      "        halldealcobasoestar  jardin  tiempodeconstruido  log_area  \\\n",
      "0                         0       0                   1  4.983607   \n",
      "1                         0       0                   0  4.744932   \n",
      "2                         1       0                   1  5.141664   \n",
      "3                         1       0                   0  4.127134   \n",
      "4                         0       0                   3  4.799914   \n",
      "...                     ...     ...                 ...       ...   \n",
      "145547                    0       0                   0  4.779123   \n",
      "145548                    1       0                   0  4.499810   \n",
      "145549                    0       0                   0  4.488636   \n",
      "145550                    0       0                   2  5.159055   \n",
      "145551                    0       0                   3  4.672829   \n",
      "\n",
      "        log_area_bal  \n",
      "0           2.397895  \n",
      "1           0.000000  \n",
      "2           3.433987  \n",
      "3           0.000000  \n",
      "4           0.000000  \n",
      "...              ...  \n",
      "145547      0.000000  \n",
      "145548      2.397895  \n",
      "145549      0.000000  \n",
      "145550      3.283914  \n",
      "145551      0.000000  \n",
      "\n",
      "[143984 rows x 10 columns]\n"
     ]
    }
   ],
   "source": [
    "print(x)"
   ]
  },
  {
   "cell_type": "code",
   "execution_count": null,
   "metadata": {},
   "outputs": [],
   "source": []
  },
  {
   "cell_type": "code",
   "execution_count": null,
   "metadata": {},
   "outputs": [],
   "source": []
  },
  {
   "cell_type": "code",
   "execution_count": null,
   "metadata": {},
   "outputs": [],
   "source": []
  },
  {
   "cell_type": "code",
   "execution_count": 20,
   "metadata": {},
   "outputs": [
    {
     "name": "stdout",
     "output_type": "stream",
     "text": [
      "0         4.983607\n",
      "1         4.744932\n",
      "2         5.141664\n",
      "3         4.127134\n",
      "4         4.799914\n",
      "            ...   \n",
      "145547    4.779123\n",
      "145548    4.499810\n",
      "145549    4.488636\n",
      "145550    5.159055\n",
      "145551    4.672829\n",
      "Name: log_area, Length: 143984, dtype: float64\n",
      "0         20.617905\n",
      "1         20.122055\n",
      "2         21.128731\n",
      "3         20.020068\n",
      "4         20.560747\n",
      "            ...    \n",
      "145547    20.500122\n",
      "145548    19.583832\n",
      "145549    20.671973\n",
      "145550    21.094829\n",
      "145551    19.924758\n",
      "Name: log_valor, Length: 143984, dtype: float64\n"
     ]
    },
    {
     "data": {
      "text/plain": [
       "[]"
      ]
     },
     "execution_count": 20,
     "metadata": {},
     "output_type": "execute_result"
    },
    {
     "data": {
      "image/png": "[encoded data removed]",
      "text/plain": [
       "<Figure size 432x288 with 1 Axes>"
      ]
     },
     "metadata": {
      "needs_background": "light"
     },
     "output_type": "display_data"
    }
   ],
   "source": [
    "X1 = x['log_area']\n",
    "Y1 = y['log_valor']\n",
    "print(X1)\n",
    "print(Y1)\n",
    "plt.scatter(X1, Y1)\n",
    "plt.xlabel('area')\n",
    "plt.ylabel('price')\n",
    "plt.plot()"
   ]
  },
  {
   "cell_type": "code",
   "execution_count": 21,
   "metadata": {},
   "outputs": [
    {
     "name": "stdout",
     "output_type": "stream",
     "text": [
      "0         6.0\n",
      "1         4.0\n",
      "2         6.0\n",
      "3         6.0\n",
      "4         0.0\n",
      "         ... \n",
      "145547    5.0\n",
      "145548    3.0\n",
      "145549    6.0\n",
      "145550    6.0\n",
      "145551    3.0\n",
      "Name: estrato, Length: 143984, dtype: float64\n",
      "0         20.617905\n",
      "1         20.122055\n",
      "2         21.128731\n",
      "3         20.020068\n",
      "4         20.560747\n",
      "            ...    \n",
      "145547    20.500122\n",
      "145548    19.583832\n",
      "145549    20.671973\n",
      "145550    21.094829\n",
      "145551    19.924758\n",
      "Name: log_valor, Length: 143984, dtype: float64\n"
     ]
    },
    {
     "data": {
      "text/plain": [
       "[]"
      ]
     },
     "execution_count": 21,
     "metadata": {},
     "output_type": "execute_result"
    },
    {
     "data": {
      "image/png": "[encoded data removed]",
      "text/plain": [
       "<Figure size 432x288 with 1 Axes>"
      ]
     },
     "metadata": {
      "needs_background": "light"
     },
     "output_type": "display_data"
    }
   ],
   "source": [
    "X1 = x['estrato']\n",
    "Y1 = y['log_valor']\n",
    "print(X1)\n",
    "print(Y1)\n",
    "plt.scatter(X1, Y1)\n",
    "plt.xlabel('estrato')\n",
    "plt.ylabel('price')\n",
    "plt.plot()"
   ]
  },
  {
   "cell_type": "code",
   "execution_count": 22,
   "metadata": {},
   "outputs": [],
   "source": [
    "##########################\n",
    "from sklearn.preprocessing import StandardScaler\n",
    "\n",
    "scaler = StandardScaler().fit(x) \n",
    "x = scaler.transform(x) \n",
    "\n",
    "scaler_x = ss()\n",
    "scaler_y = ss()\n",
    "scaler_y.fit(y.values)\n",
    "scaler_x.fit(x)\n",
    "y_s = scaler_y.transform(y)\n",
    "x_s = scaler_x.transform(x)\n",
    "#################"
   ]
  },
  {
   "cell_type": "code",
   "execution_count": 23,
   "metadata": {},
   "outputs": [],
   "source": [
    "from sklearn.model_selection import train_test_split\n",
    "\n",
    "x_train, x_test, y_train, y_test= train_test_split(x_s,y_s, test_size=0.2, random_state=72)"
   ]
  },
  {
   "cell_type": "code",
   "execution_count": 24,
   "metadata": {},
   "outputs": [],
   "source": [
    "from sklearn import linear_model\n",
    "from sklearn.linear_model import LinearRegression\n",
    "\n",
    "reg = linear_model.LinearRegression()"
   ]
  },
  {
   "cell_type": "code",
   "execution_count": 25,
   "metadata": {},
   "outputs": [
    {
     "data": {
      "text/plain": [
       "LinearRegression(copy_X=True, fit_intercept=True, n_jobs=None, normalize=False)"
      ]
     },
     "execution_count": 25,
     "metadata": {},
     "output_type": "execute_result"
    }
   ],
   "source": [
    "reg.fit(x_train, y_train)"
   ]
  },
  {
   "cell_type": "code",
   "execution_count": 26,
   "metadata": {},
   "outputs": [
    {
     "data": {
      "text/plain": [
       "0.6573884930557632"
      ]
     },
     "execution_count": 26,
     "metadata": {},
     "output_type": "execute_result"
    }
   ],
   "source": [
    "reg.score(x_test, y_test)"
   ]
  },
  {
   "cell_type": "code",
   "execution_count": 27,
   "metadata": {},
   "outputs": [
    {
     "name": "stdout",
     "output_type": "stream",
     "text": [
      "Ridge\n",
      "MSE  0.3304525427555845\n",
      "R2 SCORE  0.6573885365944028\n"
     ]
    }
   ],
   "source": [
    "rid= lr.Ridge(alpha=0.9)\n",
    "rid.fit(x_train,y_train)\n",
    "y_pred=rid.predict(x_test)\n",
    "print(\"Ridge\")\n",
    "print(\"MSE \",mean_squared_error(y_test, y_pred))\n",
    "print(\"R2 SCORE \",r2_score(y_test, y_pred))"
   ]
  },
  {
   "cell_type": "code",
   "execution_count": 28,
   "metadata": {},
   "outputs": [],
   "source": [
    "from sklearn.tree import DecisionTreeRegressor\n",
    "\n",
    "tree = DecisionTreeRegressor(random_state = 10)"
   ]
  },
  {
   "cell_type": "code",
   "execution_count": 29,
   "metadata": {},
   "outputs": [
    {
     "data": {
      "text/plain": [
       "DecisionTreeRegressor(ccp_alpha=0.0, criterion='mse', max_depth=None,\n",
       "                      max_features=None, max_leaf_nodes=None,\n",
       "                      min_impurity_decrease=0.0, min_impurity_split=None,\n",
       "                      min_samples_leaf=1, min_samples_split=2,\n",
       "                      min_weight_fraction_leaf=0.0, presort='deprecated',\n",
       "                      random_state=10, splitter='best')"
      ]
     },
     "execution_count": 29,
     "metadata": {},
     "output_type": "execute_result"
    }
   ],
   "source": [
    "tree.fit(x_train, y_train)"
   ]
  },
  {
   "cell_type": "code",
   "execution_count": 30,
   "metadata": {},
   "outputs": [
    {
     "name": "stdout",
     "output_type": "stream",
     "text": [
      "Accuracy on training set: 0.938\n",
      "Accuracy on test set: 0.839\n"
     ]
    }
   ],
   "source": [
    "print(\"Accuracy on training set: {:.3f}\".format(tree.score(x_train, y_train)))\n",
    "print(\"Accuracy on test set: {:.3f}\".format(tree.score(x_test, y_test)))"
   ]
  },
  {
   "cell_type": "code",
   "execution_count": 31,
   "metadata": {},
   "outputs": [
    {
     "name": "stdout",
     "output_type": "stream",
     "text": [
      "R^2: 0.8394084832956168\n"
     ]
    }
   ],
   "source": [
    "from sklearn import metrics\n",
    "from sklearn.metrics import mean_squared_error, r2_score\n",
    "\n",
    "print(\"R^2: {}\".format(metrics.r2_score(y_test, tree.predict(x_test)) ))"
   ]
  },
  {
   "cell_type": "code",
   "execution_count": 32,
   "metadata": {},
   "outputs": [
    {
     "name": "stderr",
     "output_type": "stream",
     "text": [
      "c:\\python\\python37\\lib\\site-packages\\ipykernel_launcher.py:2: DataConversionWarning: A column-vector y was passed when a 1d array was expected. Please change the shape of y to (n_samples,), for example using ravel().\n",
      "  \n"
     ]
    },
    {
     "name": "stdout",
     "output_type": "stream",
     "text": [
      "Random_Forest\n",
      "mean_squared_error  0.12327959179953721\n",
      "r2 score  0.8721843657117075\n"
     ]
    }
   ],
   "source": [
    "rf = RandomForestRegressor(n_estimators = 100, random_state = 42)\n",
    "rf.fit(x_train, y_train)\n",
    "y_pred=rf.predict(x_test)\n",
    "print(\"Random_Forest\")\n",
    "print(\"mean_squared_error \",mean_squared_error(y_test, y_pred))\n",
    "print(\"r2 score \",r2_score(y_test, y_pred))"
   ]
  },
  {
   "cell_type": "code",
   "execution_count": 33,
   "metadata": {},
   "outputs": [
    {
     "name": "stdout",
     "output_type": "stream",
     "text": [
      "LinearRegression\n",
      "R^2: 0.6573884930557631\n",
      "Explained variance score: 0.6574005171929322\n",
      "Median absolute error: 0.2327550015237514\n",
      "Mean squared error: 0.33045258474908357\n",
      "Mean absolute errors: 0.3157583026809767\n",
      "Ridge\n",
      "R^2: 0.6573885365944028\n",
      "Explained variance score: 0.6574005606296552\n",
      "Median absolute error: 0.23275735242801454\n",
      "Mean squared error: 0.3304525427555845\n",
      "Mean absolute errors: 0.31575876597818053\n",
      "DecisionTree\n",
      "R^2: 0.8394084832956168\n",
      "Explained variance score: 0.8394092631490315\n",
      "Median absolute error: 0.03374315767300716\n",
      "Mean squared error: 0.1548922926058532\n",
      "Mean absolute errors: 0.13250581339320416\n",
      "RandomForest\n",
      "R^2: 0.8721843657117075\n",
      "Explained variance score: 0.8721869003614967\n",
      "Median absolute error: 0.0456822703757424\n",
      "Mean squared error: 0.12327959179953721\n",
      "Mean absolute errors: 0.12671941788667412\n"
     ]
    }
   ],
   "source": [
    "from sklearn import metrics\n",
    "\n",
    "models = []\n",
    "models.append(('LinearRegression', reg))\n",
    "models.append(('Ridge', rid))\n",
    "models.append(('DecisionTree', tree))\n",
    "models.append(('RandomForest', rf))\n",
    "#models.append(('Neural_Network1', model))\n",
    "\n",
    "r2 = []\n",
    "explained_variance_score = []\n",
    "median_absolute_error = []\n",
    "mean_squared_error = []\n",
    "mean_absolute_error = []\n",
    "for name, model1 in models:\n",
    "    print(name)\n",
    "    print(\"R^2: {}\".format(metrics.r2_score(y_test, model1.predict(x_test)) ))\n",
    "    print(\"Explained variance score: {}\".format( metrics.explained_variance_score(y_test, model1.predict(x_test)) ))\n",
    "    print(\"Median absolute error: {}\".format( metrics.median_absolute_error(y_test, model1.predict(x_test)) ))\n",
    "    print(\"Mean squared error: {}\".format( metrics.mean_squared_error(y_test, model1.predict(x_test)) ))\n",
    "    print(\"Mean absolute errors: {}\".format(metrics.mean_absolute_error(y_test, model1.predict(x_test)) ))\n",
    "    r2.append(metrics.r2_score(y_test, model1.predict(x_test)))\n",
    "    explained_variance_score.append(metrics.explained_variance_score(y_test, model1.predict(x_test)))\n",
    "    median_absolute_error.append( metrics.median_absolute_error(y_test, model1.predict(x_test)))\n",
    "    mean_squared_error.append(metrics.mean_squared_error(y_test, model1.predict(x_test)))\n",
    "    mean_absolute_error.append(metrics.mean_absolute_error(y_test, model1.predict(x_test)))"
   ]
  },
  {
   "cell_type": "code",
   "execution_count": 34,
   "metadata": {},
   "outputs": [
    {
     "data": {
      "text/html": [
       "<div>\n",
       "<style scoped>\n",
       "    .dataframe tbody tr th:only-of-type {\n",
       "        vertical-align: middle;\n",
       "    }\n",
       "\n",
       "    .dataframe tbody tr th {\n",
       "        vertical-align: top;\n",
       "    }\n",
       "\n",
       "    .dataframe thead th {\n",
       "        text-align: right;\n",
       "    }\n",
       "</style>\n",
       "<table border=\"1\" class=\"dataframe\">\n",
       "  <thead>\n",
       "    <tr style=\"text-align: right;\">\n",
       "      <th></th>\n",
       "      <th>Method</th>\n",
       "      <th>r2</th>\n",
       "      <th>explained_variance_score</th>\n",
       "      <th>median_absolute_error</th>\n",
       "      <th>mean_squared_error</th>\n",
       "      <th>mean_absolute_error</th>\n",
       "    </tr>\n",
       "  </thead>\n",
       "  <tbody>\n",
       "    <tr>\n",
       "      <th>0</th>\n",
       "      <td>LinearRegression</td>\n",
       "      <td>0.657388</td>\n",
       "      <td>0.657401</td>\n",
       "      <td>0.232755</td>\n",
       "      <td>0.330453</td>\n",
       "      <td>0.315758</td>\n",
       "    </tr>\n",
       "    <tr>\n",
       "      <th>1</th>\n",
       "      <td>Ridge</td>\n",
       "      <td>0.657389</td>\n",
       "      <td>0.657401</td>\n",
       "      <td>0.232757</td>\n",
       "      <td>0.330453</td>\n",
       "      <td>0.315759</td>\n",
       "    </tr>\n",
       "    <tr>\n",
       "      <th>2</th>\n",
       "      <td>DecisionTree</td>\n",
       "      <td>0.839408</td>\n",
       "      <td>0.839409</td>\n",
       "      <td>0.033743</td>\n",
       "      <td>0.154892</td>\n",
       "      <td>0.132506</td>\n",
       "    </tr>\n",
       "    <tr>\n",
       "      <th>3</th>\n",
       "      <td>RandomForest</td>\n",
       "      <td>0.872184</td>\n",
       "      <td>0.872187</td>\n",
       "      <td>0.045682</td>\n",
       "      <td>0.123280</td>\n",
       "      <td>0.126719</td>\n",
       "    </tr>\n",
       "  </tbody>\n",
       "</table>\n",
       "</div>"
      ],
      "text/plain": [
       "             Method        r2  explained_variance_score  \\\n",
       "0  LinearRegression  0.657388                  0.657401   \n",
       "1             Ridge  0.657389                  0.657401   \n",
       "2      DecisionTree  0.839408                  0.839409   \n",
       "3      RandomForest  0.872184                  0.872187   \n",
       "\n",
       "   median_absolute_error  mean_squared_error  mean_absolute_error  \n",
       "0               0.232755            0.330453             0.315758  \n",
       "1               0.232757            0.330453             0.315759  \n",
       "2               0.033743            0.154892             0.132506  \n",
       "3               0.045682            0.123280             0.126719  "
      ]
     },
     "execution_count": 34,
     "metadata": {},
     "output_type": "execute_result"
    }
   ],
   "source": [
    "import pandas as pd\n",
    "d = {'r2': r2, \n",
    "     'explained_variance_score': explained_variance_score, \n",
    "     'median_absolute_error': median_absolute_error,\n",
    "     'mean_squared_error' : mean_squared_error,\n",
    "     'mean_absolute_error' : mean_absolute_error,\n",
    "    }\n",
    "df = pd.DataFrame(data=d)\n",
    "#df.insert(loc=0, column='Method', value=['LinearRegression', 'ElasticNet', 'Lasso', 'Ridge', 'DecisionTree'])#,'Lasso','Ridge','LR'])\n",
    "df.insert(loc=0, column='Method', value=['LinearRegression', 'Ridge', 'DecisionTree', 'RandomForest'])#,'Lasso','Ridge','LR'])\n",
    "#df.insert(loc=1, column='Method', value=['LinearRegression'])\n",
    "df"
   ]
  },
  {
   "cell_type": "code",
   "execution_count": 35,
   "metadata": {},
   "outputs": [],
   "source": [
    "##########################\n",
    "#from sklearn.preprocessing import StandardScaler\n",
    "\n",
    "#scaler = StandardScaler().fit(x) \n",
    "#x = scaler.transform(x) \n",
    "\n",
    "#scaler_x = ss()\n",
    "#scaler_y = ss()\n",
    "#scaler_y.fit(y.values)\n",
    "#scaler_x.fit(x)\n",
    "#y_s = scaler_y.transform(y)\n",
    "#x_s = scaler_x.transform(x)\n",
    "#################"
   ]
  },
  {
   "cell_type": "code",
   "execution_count": 36,
   "metadata": {},
   "outputs": [],
   "source": [
    "xn_train, xn_test, yn_train, yn_test= split(x,y, test_size=0.2, random_state=72)"
   ]
  },
  {
   "cell_type": "code",
   "execution_count": 37,
   "metadata": {},
   "outputs": [
    {
     "name": "stdout",
     "output_type": "stream",
     "text": [
      "[[-0.02338328 -0.55639927 -1.02576877 ... -0.27818353 -1.2160559\n",
      "  -0.39011393]\n",
      " [-0.02338328 -0.55639927 -0.35847428 ... -1.24201581 -1.14649651\n",
      "  -0.39011393]\n",
      " [-0.02338328 -1.53403784 -0.35847428 ... -1.24201581 -0.98454243\n",
      "  -0.39011393]\n",
      " ...\n",
      " [-0.01583204 -1.53403784 -1.02576877 ...  1.64948102 -0.50666383\n",
      "   0.79668284]\n",
      " [-0.02338328 -0.55639927  0.3088202  ...  0.68564874 -0.35298301\n",
      "  -0.39011393]\n",
      " [-0.02338328 -1.53403784 -0.35847428 ...  0.68564874 -0.72819925\n",
      "  -0.39011393]]\n"
     ]
    }
   ],
   "source": [
    "#import keras.backend as K\n",
    "#def r2_keras(y_true, y_pred):\n",
    "#    SS_res =  K.sum(K.square(y_true - y_pred)) \n",
    "#    SS_tot = K.sum(K.square(y_true - K.mean(y_true))) \n",
    "#    return ( 1 - SS_res/(SS_tot + K.epsilon()) )\n",
    "print(xn_train)"
   ]
  },
  {
   "cell_type": "code",
   "execution_count": 38,
   "metadata": {},
   "outputs": [
    {
     "name": "stdout",
     "output_type": "stream",
     "text": [
      "Train on 115187 samples, validate on 28797 samples\n",
      "Epoch 1/10\n",
      "115187/115187 [==============================] - 7s 57us/step - loss: 3.4883 - mean_squared_error: 17.1840 - val_loss: 0.1948 - val_mean_squared_error: 3.1314\n",
      "Epoch 2/10\n",
      "115187/115187 [==============================] - 7s 65us/step - loss: 0.2331 - mean_squared_error: 2.1399 - val_loss: 0.2174 - val_mean_squared_error: 1.6003\n",
      "Epoch 3/10\n",
      "115187/115187 [==============================] - 8s 74us/step - loss: 0.2266 - mean_squared_error: 1.3245 - val_loss: 0.2016 - val_mean_squared_error: 1.1244\n",
      "Epoch 4/10\n",
      "115187/115187 [==============================] - 8s 74us/step - loss: 0.2046 - mean_squared_error: 0.9926 - val_loss: 0.2725 - val_mean_squared_error: 0.8890\n",
      "Epoch 5/10\n",
      "115187/115187 [==============================] - 8s 72us/step - loss: 0.2049 - mean_squared_error: 0.8152 - val_loss: 0.1645 - val_mean_squared_error: 0.7510\n",
      "Epoch 6/10\n",
      "115187/115187 [==============================] - 9s 75us/step - loss: 0.1997 - mean_squared_error: 0.6998 - val_loss: 0.2093 - val_mean_squared_error: 0.6569\n",
      "Epoch 7/10\n",
      "115187/115187 [==============================] - 8s 71us/step - loss: 0.1964 - mean_squared_error: 0.6216 - val_loss: 0.1689 - val_mean_squared_error: 0.5899\n",
      "Epoch 8/10\n",
      "115187/115187 [==============================] - 9s 77us/step - loss: 0.1876 - mean_squared_error: 0.5631 - val_loss: 0.1991 - val_mean_squared_error: 0.5389\n",
      "Epoch 9/10\n",
      "115187/115187 [==============================] - 8s 71us/step - loss: 0.1917 - mean_squared_error: 0.5183 - val_loss: 0.1528 - val_mean_squared_error: 0.4997\n",
      "Epoch 10/10\n",
      "115187/115187 [==============================] - 8s 66us/step - loss: 0.1759 - mean_squared_error: 0.4825 - val_loss: 0.1802 - val_mean_squared_error: 0.4668\n"
     ]
    }
   ],
   "source": [
    "model = Sequential()\n",
    "model.add(Dense(128, input_dim = x.shape[1], kernel_initializer='normal', activation='relu'))\n",
    "model.add(Dense(256, kernel_initializer='normal', activation='relu'))\n",
    "model.add(Dense(256, kernel_initializer='normal', activation='relu'))\n",
    "model.add(Dense(1, kernel_initializer='normal', activation='linear'))\n",
    "\n",
    "model.compile(loss='mean_squared_error', optimizer='adam', metrics=[tf.keras.metrics.MeanSquaredError()])\n",
    "  \n",
    "history = model.fit(xn_train,yn_train,epochs=10, batch_size=32,validation_data=[xn_test, yn_test])\n"
   ]
  },
  {
   "cell_type": "code",
   "execution_count": null,
   "metadata": {},
   "outputs": [],
   "source": []
  },
  {
   "cell_type": "code",
   "execution_count": null,
   "metadata": {},
   "outputs": [],
   "source": []
  },
  {
   "cell_type": "code",
   "execution_count": 39,
   "metadata": {},
   "outputs": [
    {
     "name": "stdout",
     "output_type": "stream",
     "text": [
      "Train on 115187 samples, validate on 28797 samples\n",
      "Epoch 1/30\n",
      "115187/115187 [==============================] - 7s 58us/step - loss: 0.1817 - mean_squared_error: 0.4535 - val_loss: 0.1645 - val_mean_squared_error: 0.4405\n",
      "Epoch 2/30\n",
      "115187/115187 [==============================] - 8s 68us/step - loss: 0.1765 - mean_squared_error: 0.4289 - val_loss: 0.2073 - val_mean_squared_error: 0.4184\n",
      "Epoch 3/30\n",
      "115187/115187 [==============================] - 8s 73us/step - loss: 0.1784 - mean_squared_error: 0.4093 - val_loss: 0.1849 - val_mean_squared_error: 0.4001\n",
      "Epoch 4/30\n",
      "115187/115187 [==============================] - 8s 69us/step - loss: 0.1749 - mean_squared_error: 0.3918 - val_loss: 0.1737 - val_mean_squared_error: 0.3839\n",
      "Epoch 5/30\n",
      "115187/115187 [==============================] - 8s 70us/step - loss: 0.1745 - mean_squared_error: 0.3768 - val_loss: 0.1437 - val_mean_squared_error: 0.3697\n",
      "Epoch 6/30\n",
      "115187/115187 [==============================] - 8s 72us/step - loss: 0.1763 - mean_squared_error: 0.3628 - val_loss: 0.1490 - val_mean_squared_error: 0.3572\n",
      "Epoch 7/30\n",
      "115187/115187 [==============================] - 8s 70us/step - loss: 0.1683 - mean_squared_error: 0.3511 - val_loss: 0.1449 - val_mean_squared_error: 0.3458\n",
      "Epoch 8/30\n",
      "115187/115187 [==============================] - 8s 73us/step - loss: 0.1661 - mean_squared_error: 0.3405 - val_loss: 0.2396 - val_mean_squared_error: 0.3360\n",
      "Epoch 9/30\n",
      "115187/115187 [==============================] - 8s 69us/step - loss: 0.1647 - mean_squared_error: 0.3320 - val_loss: 0.1483 - val_mean_squared_error: 0.3273\n",
      "Epoch 10/30\n",
      "115187/115187 [==============================] - 8s 71us/step - loss: 0.1624 - mean_squared_error: 0.3229 - val_loss: 0.1406 - val_mean_squared_error: 0.3188\n",
      "Epoch 11/30\n",
      "115187/115187 [==============================] - 8s 68us/step - loss: 0.1622 - mean_squared_error: 0.3149 - val_loss: 0.1346 - val_mean_squared_error: 0.3111\n",
      "Epoch 12/30\n",
      "115187/115187 [==============================] - 8s 70us/step - loss: 0.1574 - mean_squared_error: 0.3074 - val_loss: 0.1396 - val_mean_squared_error: 0.3039\n",
      "Epoch 13/30\n",
      "115187/115187 [==============================] - 8s 69us/step - loss: 0.1578 - mean_squared_error: 0.3005 - val_loss: 0.1421 - val_mean_squared_error: 0.2973\n",
      "Epoch 14/30\n",
      "115187/115187 [==============================] - 8s 70us/step - loss: 0.1564 - mean_squared_error: 0.2942 - val_loss: 0.1629 - val_mean_squared_error: 0.2914\n",
      "Epoch 15/30\n",
      "115187/115187 [==============================] - 8s 70us/step - loss: 0.1583 - mean_squared_error: 0.2886 - val_loss: 0.1364 - val_mean_squared_error: 0.2860\n",
      "Epoch 16/30\n",
      "115187/115187 [==============================] - 8s 71us/step - loss: 0.1550 - mean_squared_error: 0.2834 - val_loss: 0.1405 - val_mean_squared_error: 0.2808\n",
      "Epoch 17/30\n",
      "115187/115187 [==============================] - 7s 59us/step - loss: 0.1553 - mean_squared_error: 0.2785 - val_loss: 0.1446 - val_mean_squared_error: 0.2760\n",
      "Epoch 18/30\n",
      "115187/115187 [==============================] - 6s 55us/step - loss: 0.1533 - mean_squared_error: 0.2737 - val_loss: 0.1478 - val_mean_squared_error: 0.2716\n",
      "Epoch 19/30\n",
      "115187/115187 [==============================] - 6s 56us/step - loss: 0.1522 - mean_squared_error: 0.2694 - val_loss: 0.1436 - val_mean_squared_error: 0.2674\n",
      "Epoch 20/30\n",
      "115187/115187 [==============================] - 6s 55us/step - loss: 0.1515 - mean_squared_error: 0.2654 - val_loss: 0.1423 - val_mean_squared_error: 0.2635\n",
      "Epoch 21/30\n",
      "115187/115187 [==============================] - 6s 55us/step - loss: 0.1523 - mean_squared_error: 0.2615 - val_loss: 0.1317 - val_mean_squared_error: 0.2598\n",
      "Epoch 22/30\n",
      "115187/115187 [==============================] - 6s 55us/step - loss: 0.1507 - mean_squared_error: 0.2579 - val_loss: 0.1410 - val_mean_squared_error: 0.2563\n",
      "Epoch 23/30\n",
      "115187/115187 [==============================] - 6s 55us/step - loss: 0.1518 - mean_squared_error: 0.2546 - val_loss: 0.1319 - val_mean_squared_error: 0.2530\n",
      "Epoch 24/30\n",
      "115187/115187 [==============================] - 6s 55us/step - loss: 0.1485 - mean_squared_error: 0.2514 - val_loss: 0.1446 - val_mean_squared_error: 0.2498\n",
      "Epoch 25/30\n",
      "115187/115187 [==============================] - 6s 55us/step - loss: 0.1489 - mean_squared_error: 0.2484 - val_loss: 0.1486 - val_mean_squared_error: 0.2470\n",
      "Epoch 26/30\n",
      "115187/115187 [==============================] - 7s 57us/step - loss: 0.1488 - mean_squared_error: 0.2456 - val_loss: 0.1390 - val_mean_squared_error: 0.2442\n",
      "Epoch 27/30\n",
      "115187/115187 [==============================] - 7s 59us/step - loss: 0.1486 - mean_squared_error: 0.2429 - val_loss: 0.1295 - val_mean_squared_error: 0.2415\n",
      "Epoch 28/30\n",
      "115187/115187 [==============================] - 6s 55us/step - loss: 0.1467 - mean_squared_error: 0.2402 - val_loss: 0.1623 - val_mean_squared_error: 0.2390\n",
      "Epoch 29/30\n",
      "115187/115187 [==============================] - 7s 57us/step - loss: 0.1470 - mean_squared_error: 0.2379 - val_loss: 0.1423 - val_mean_squared_error: 0.2367\n",
      "Epoch 30/30\n",
      "115187/115187 [==============================] - 7s 57us/step - loss: 0.1462 - mean_squared_error: 0.2355 - val_loss: 0.1489 - val_mean_squared_error: 0.2344\n"
     ]
    }
   ],
   "source": [
    "#model2 = Sequential()\n",
    "#model2.add(Dense(128, input_dim = x.shape[1], kernel_initializer='normal', activation='relu'))\n",
    "#model2.add(Dense(256, kernel_initializer='normal', activation='relu'))\n",
    "#model2.add(Dense(256, kernel_initializer='normal', activation='relu'))\n",
    "#model2.add(Dense(1, kernel_initializer='normal', activation='linear'))\n",
    "\n",
    "#model2.compile(loss='mean_squared_error', optimizer=adam, metrics=[tf.keras.metrics.MeanSquaredError()])\n",
    "  \n",
    "history = model.fit(xn_train,yn_train,epochs=30, batch_size=32,validation_data=[xn_test, yn_test])\n"
   ]
  },
  {
   "cell_type": "code",
   "execution_count": null,
   "metadata": {},
   "outputs": [],
   "source": []
  },
  {
   "cell_type": "code",
   "execution_count": 40,
   "metadata": {},
   "outputs": [
    {
     "name": "stdout",
     "output_type": "stream",
     "text": [
      "115187/115187 [==============================] - 2s 14us/step\n"
     ]
    }
   ],
   "source": [
    "mse_test = model.evaluate(xn_train, yn_train)"
   ]
  },
  {
   "cell_type": "code",
   "execution_count": 41,
   "metadata": {},
   "outputs": [
    {
     "name": "stdout",
     "output_type": "stream",
     "text": [
      "R2 SCORE  0.7230515636568977\n"
     ]
    }
   ],
   "source": [
    "y_pred = model.predict(xn_train)\n",
    "\n",
    "print(\"R2 SCORE \",r2_score(yn_train, y_pred))"
   ]
  },
  {
   "cell_type": "code",
   "execution_count": 42,
   "metadata": {},
   "outputs": [
    {
     "name": "stdout",
     "output_type": "stream",
     "text": [
      "[0.15971623752413808, 0.2333981990814209]\n"
     ]
    }
   ],
   "source": [
    "print(mse_test)"
   ]
  },
  {
   "cell_type": "code",
   "execution_count": null,
   "metadata": {},
   "outputs": [],
   "source": []
  },
  {
   "cell_type": "code",
   "execution_count": 45,
   "metadata": {},
   "outputs": [
    {
     "data": {
      "image/png": "[encoded data removed]",
      "text/plain": [
       "<Figure size 432x288 with 1 Axes>"
      ]
     },
     "metadata": {
      "needs_background": "light"
     },
     "output_type": "display_data"
    }
   ],
   "source": [
    "plt.plot(pd.DataFrame(history.history))\n",
    "plt.grid(True)\n",
    "plt.show()"
   ]
  },
  {
   "cell_type": "code",
   "execution_count": null,
   "metadata": {},
   "outputs": [],
   "source": []
  },
  {
   "cell_type": "code",
   "execution_count": null,
   "metadata": {},
   "outputs": [],
   "source": []
  },
  {
   "cell_type": "code",
   "execution_count": null,
   "metadata": {},
   "outputs": [],
   "source": []
  },
  {
   "cell_type": "code",
   "execution_count": 46,
   "metadata": {},
   "outputs": [
    {
     "name": "stdout",
     "output_type": "stream",
     "text": [
      "neural network\n",
      "R^2: 0.7298974829207214\n",
      "Explained variance score: 0.7587777760541092\n",
      "Median absolute error: 0.16144388858801406\n",
      "Mean squared error: 0.14891919113914376\n",
      "Mean absolute errors: 0.2060002087040631\n"
     ]
    }
   ],
   "source": [
    "print('neural network')\n",
    "print(\"R^2: {}\".format(metrics.r2_score(yn_test, model.predict(xn_test)) ))\n",
    "print(\"Explained variance score: {}\".format( metrics.explained_variance_score(yn_test, model.predict(xn_test)) ))\n",
    "print(\"Median absolute error: {}\".format( metrics.median_absolute_error(yn_test, model.predict(xn_test)) ))\n",
    "print(\"Mean squared error: {}\".format( metrics.mean_squared_error(yn_test, model.predict(xn_test)) ))\n",
    "print(\"Mean absolute errors: {}\".format(metrics.mean_absolute_error(yn_test, model.predict(xn_test)) ))"
   ]
  },
  {
   "cell_type": "code",
   "execution_count": null,
   "metadata": {},
   "outputs": [],
   "source": []
  }
 ],
 "metadata": {
  "kernelspec": {
   "display_name": "Python 3",
   "language": "python",
   "name": "python3"
  },
  "language_info": {
   "codemirror_mode": {
    "name": "ipython",
    "version": 3
   },
   "file_extension": ".py",
   "mimetype": "text/x-python",
   "name": "python",
   "nbconvert_exporter": "python",
   "pygments_lexer": "ipython3",
   "version": "3.7.3"
  }
 },
 "nbformat": 4,
 "nbformat_minor": 4
}
